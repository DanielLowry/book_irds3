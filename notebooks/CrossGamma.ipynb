{
 "cells": [
  {
   "cell_type": "code",
   "execution_count": null,
   "id": "b7b1ebea-0cd1-4bdd-8d3d-1cd9bc7060cc",
   "metadata": {},
   "outputs": [],
   "source": [
    "import module_loader\n",
    "import pandas as pd\n",
    "from modules.curves import *\n",
    "from modules.dual import Dual"
   ]
  },
  {
   "cell_type": "code",
   "execution_count": null,
   "id": "d08ff1ad-a21c-4f12-96aa-ee5120defa53",
   "metadata": {},
   "outputs": [],
   "source": [
    "nodes = {\n",
    "    datetime(2022, 1, 1): Dual(1, {\"v0\": 1}),\n",
    "    datetime(2023, 1, 1): Dual(1, {\"v1\": 1}),\n",
    "    datetime(2024, 1, 1): Dual(1, {\"v2\": 1}),\n",
    "    datetime(2025, 1, 1): Dual(1, {\"v3\": 1}),\n",
    "    datetime(2026, 1, 1): Dual(1, {\"v4\": 1}),\n",
    "    datetime(2027, 1, 1): Dual(1, {\"v5\": 1}),\n",
    "}\n",
    "swaps = {\n",
    "    Swap(datetime(2022,1,1), 12*1, 12, 12): 1.00,\n",
    "    Swap(datetime(2022,1,1), 12*2, 12, 12): 1.10,\n",
    "    Swap(datetime(2022,1,1), 12*3, 12, 12): 1.20,\n",
    "    Swap(datetime(2022,1,1), 12*4, 12, 12): 1.25,\n",
    "    Swap(datetime(2022,1,1), 12*5, 12, 12): 1.27,\n",
    "}\n",
    "s_cv = SolvedCurve(\n",
    "    nodes=nodes, interpolation=\"log_linear\",\n",
    "    obj_rates=list(swaps.values()), \n",
    "    swaps=list(swaps.keys()),\n",
    "    algorithm=\"levenberg_marquardt\"\n",
    ")\n",
    "s_cv.iterate()   "
   ]
  },
  {
   "cell_type": "code",
   "execution_count": null,
   "id": "3be296d1-4393-4262-8a2b-9e6b94d477a6",
   "metadata": {},
   "outputs": [],
   "source": [
    "portfolio = Portfolio([\n",
    "    Swap2(datetime(2022, 1, 1), 5*12, 12, 12, fixed_rate=25.0, notional=-8.3e8),\n",
    "])"
   ]
  },
  {
   "cell_type": "code",
   "execution_count": null,
   "id": "bd282c57-9a0b-4822-9d99-5fd04b730441",
   "metadata": {},
   "outputs": [],
   "source": [
    "dz, ds = portfolio.risk_fwd_zero_rates(s_cv)\n",
    "df = pd.DataFrame({\"dPdz\": dz[:,0], \"dPds\": ds[:,0], \"dPdr\": (dz+ds)[:,0]})\n",
    "df.style.format(\"{:,.0f}\")"
   ]
  },
  {
   "cell_type": "code",
   "execution_count": null,
   "id": "75cdacf7-b99d-4057-bb39-7adccf1a7481",
   "metadata": {},
   "outputs": [],
   "source": [
    "ss, sz, zz = portfolio.cross_gamma(s_cv)"
   ]
  },
  {
   "cell_type": "code",
   "execution_count": null,
   "id": "a8faea36-2d90-47d5-83cb-e29f1946b832",
   "metadata": {},
   "outputs": [],
   "source": [
    "G = np.block([[ss, sz, ss + sz],\n",
    "              [sz.T, zz, sz.T + zz],\n",
    "              [(ss + sz).T, (sz.T + zz).T, ss + sz + sz.T + zz]])\n",
    "labels = [\"s1\", \"s2\", \"s3\", \"s4\", \"s5\", \"z1\", \"z2\", \"z3\", \"z4\", \"z5\", \"r1\", \"r2\", \"r3\", \"r4\", \"r5\"]\n",
    "df = pd.DataFrame(G, index=labels, columns=labels)\n",
    "df.style.format(\"{:,.1f}\")"
   ]
  },
  {
   "cell_type": "code",
   "execution_count": null,
   "id": "f8ab58d7-ecfe-4c23-ace0-56e5859a0c04",
   "metadata": {},
   "outputs": [],
   "source": [
    "dx = np.array([0.2, 0.3, 0.2, 0.1, -0.1,\n",
    "               -1.1, -1.2, -1.1, -0.8, -0.5,\n",
    "               -5.2, -4.1, -2, 2.4, 7.8])[:, np.newaxis]\n",
    "np.matmul(np.matmul(dx[10:15, 0], G[10:15, 10:15]), dx[10:15, :])"
   ]
  },
  {
   "cell_type": "code",
   "execution_count": null,
   "id": "b450136b-3935-4592-b598-c05928d4b022",
   "metadata": {},
   "outputs": [],
   "source": [
    "np.matmul(np.matmul(dx.T, G), dx) / 2"
   ]
  }
 ],
 "metadata": {
  "kernelspec": {
   "display_name": "Python 3 (ipykernel)",
   "language": "python",
   "name": "python3"
  },
  "language_info": {
   "codemirror_mode": {
    "name": "ipython",
    "version": 3
   },
   "file_extension": ".py",
   "mimetype": "text/x-python",
   "name": "python",
   "nbconvert_exporter": "python",
   "pygments_lexer": "ipython3",
   "version": "3.9.5"
  }
 },
 "nbformat": 4,
 "nbformat_minor": 5
}
