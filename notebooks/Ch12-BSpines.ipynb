{
 "cells": [
  {
   "cell_type": "code",
   "execution_count": null,
   "id": "e35dbf65-dc1b-4c9d-8f18-90015c6df5fb",
   "metadata": {},
   "outputs": [],
   "source": [
    "import module_loader\n",
    "import pandas as pd\n",
    "from bookirds.curves import *\n",
    "from bookirds.dual import Dual\n",
    "from bookirds.bsplines import *\n",
    "import matplotlib.pyplot as plt\n",
    "x = np.linspace(1,4,101)"
   ]
  },
  {
   "cell_type": "markdown",
   "id": "218bf4e3-b6f6-49ee-a0c1-ba5750731cf0",
   "metadata": {},
   "source": [
    "# Plotting B-Splines\n",
    "\n",
    "Plotting the 2nd order, 3rd order and 4th order B-splines below we check that the B-splines produced are accurate around the knot points and demnstrate the correct support at endpoints for all their derivatives.\n",
    "\n",
    "### Order 2 B-Spline\n",
    "Below we test a basic, order 2 B-spline. We observe that it has correct endpoint support at x=1 and x=4."
   ]
  },
  {
   "cell_type": "code",
   "execution_count": null,
   "id": "e0a5bc42-5584-4f6e-8354-1714c554f78b",
   "metadata": {},
   "outputs": [],
   "source": [
    "t = np.array([1,1,2,3,4,4])\n",
    "k = 2\n",
    "bs = BSpline(t=t, k=k)"
   ]
  },
  {
   "cell_type": "code",
   "execution_count": null,
   "id": "288ac04a-1155-45c1-84e5-9719c15b1883",
   "metadata": {},
   "outputs": [],
   "source": [
    "fig, ax = plt.subplots()\n",
    "for i in range(len(t)-k):\n",
    "    ax.plot(x, bs.bsplev(x, i), label=f'{i}')\n",
    "ax.legend()\n",
    "plt.show()"
   ]
  },
  {
   "cell_type": "markdown",
   "id": "6bc84d36-c85f-47e6-89ec-4d96fe5f6058",
   "metadata": {},
   "source": [
    "We also examine the derivatives and find that these endpoints are also supported."
   ]
  },
  {
   "cell_type": "code",
   "execution_count": null,
   "id": "da89ede2-4af4-4e46-b62b-e2477e1dc3e8",
   "metadata": {},
   "outputs": [],
   "source": [
    "fig, ax = plt.subplots()\n",
    "for i in range(len(t)-k):\n",
    "    ax.plot(x, bs.bspldnev(x, i, 1), label=f'{i}')\n",
    "ax.legend()\n",
    "plt.show()"
   ]
  },
  {
   "cell_type": "markdown",
   "id": "6b6c30d1-790e-4fe3-81aa-f5627aff6a40",
   "metadata": {},
   "source": [
    "And that all second derivatives are zero as expected."
   ]
  },
  {
   "cell_type": "code",
   "execution_count": null,
   "id": "0c9c6b80-8860-4bf9-a6e1-9582d2c0b2e2",
   "metadata": {},
   "outputs": [],
   "source": [
    "fig, ax = plt.subplots()\n",
    "for i in range(len(t)-k):\n",
    "    ax.plot(x, bs.bspldnev(x, i, 2), label=f'{i}')\n",
    "ax.legend()\n",
    "plt.show()"
   ]
  },
  {
   "cell_type": "markdown",
   "id": "a62223ad-0c98-4e7b-acb5-de5dc9a1ee90",
   "metadata": {},
   "source": [
    "### Order 3 B-Spline"
   ]
  },
  {
   "cell_type": "code",
   "execution_count": null,
   "id": "7bd79fe1-1586-49e8-b94c-490666a32fb4",
   "metadata": {},
   "outputs": [],
   "source": [
    "t = np.array([1,1,1,2,2,3,4,4,4])\n",
    "k = 3\n",
    "bs = BSpline(t=t, k=k)"
   ]
  },
  {
   "cell_type": "code",
   "execution_count": null,
   "id": "70995a94-4e67-4773-89ba-7ae609f9539f",
   "metadata": {},
   "outputs": [],
   "source": [
    "fig, ax = plt.subplots()\n",
    "for i in range(len(t)-k):\n",
    "    ax.plot(x, bs.bsplev(x, i), label=f'{i}')\n",
    "ax.legend()\n",
    "plt.show()"
   ]
  },
  {
   "cell_type": "markdown",
   "id": "91bbb217-f1c2-4627-9ef5-f957d065746f",
   "metadata": {},
   "source": [
    "Note the discontinuity at 2, since the knot seqence permits the 1st derivative discontinuity. At 3 it does not. Endpoint support is visible."
   ]
  },
  {
   "cell_type": "code",
   "execution_count": null,
   "id": "2d6ce08d-465f-422a-90d9-3150009c3c46",
   "metadata": {},
   "outputs": [],
   "source": [
    "fig, ax = plt.subplots()\n",
    "for i in range(len(t)-k):\n",
    "    ax.plot(x, bs.bspldnev(x, i, 1), label=f'{i}')\n",
    "ax.legend()\n",
    "plt.show()"
   ]
  },
  {
   "cell_type": "code",
   "execution_count": null,
   "id": "77b118b9-f9b1-4004-850a-113392f66086",
   "metadata": {},
   "outputs": [],
   "source": [
    "fig, ax = plt.subplots()\n",
    "for i in range(len(t)-k):\n",
    "    ax.plot(x, bs.bspldnev(x, i, 2), label=f'{i}')\n",
    "ax.legend()\n",
    "plt.show()"
   ]
  },
  {
   "cell_type": "code",
   "execution_count": null,
   "id": "345fb4a7-0a76-48c0-a6c4-a4be69862dda",
   "metadata": {},
   "outputs": [],
   "source": [
    "fig, ax = plt.subplots()\n",
    "for i in range(len(t)-k):\n",
    "    ax.plot(x, bs.bspldnev(x, i, 3), label=f'{i}')\n",
    "ax.legend()\n",
    "plt.show()"
   ]
  },
  {
   "cell_type": "markdown",
   "id": "9c619612-befa-4634-aa5f-d84b13cd7808",
   "metadata": {},
   "source": [
    "### Order 4 B-Spline"
   ]
  },
  {
   "cell_type": "code",
   "execution_count": null,
   "id": "af637a65-f5c7-48fe-a1a2-8e94dd616f48",
   "metadata": {},
   "outputs": [],
   "source": [
    "t = np.array([1,1,1,1,2,2,2,3,4,4,4,4])\n",
    "k = 4\n",
    "bs = BSpline(t=t, k=k)"
   ]
  },
  {
   "cell_type": "code",
   "execution_count": null,
   "id": "0ea1435c-2f55-4639-becf-123140cdf573",
   "metadata": {},
   "outputs": [],
   "source": [
    "fig, ax = plt.subplots()\n",
    "for i in range(len(t)-k):\n",
    "    ax.plot(x, bs.bsplev(x, i), label=f'{i}')\n",
    "ax.legend()\n",
    "plt.show()"
   ]
  },
  {
   "cell_type": "code",
   "execution_count": null,
   "id": "4a447ee0-cf9a-4eb4-a80b-0e5f9a9f367f",
   "metadata": {},
   "outputs": [],
   "source": [
    "fig, ax = plt.subplots()\n",
    "for i in range(len(t)-k):\n",
    "    ax.plot(x, bs.bspldnev(x, i, 1), label=f'{i}')\n",
    "ax.legend()\n",
    "plt.show()"
   ]
  },
  {
   "cell_type": "code",
   "execution_count": null,
   "id": "58c8c8ae-2a25-4f4b-be4b-6378f8d3363a",
   "metadata": {},
   "outputs": [],
   "source": [
    "fig, ax = plt.subplots()\n",
    "for i in range(len(t)-k):\n",
    "    ax.plot(x, bs.bspldnev(x, i, 2), label=f'{i}')\n",
    "ax.legend()\n",
    "plt.show()"
   ]
  },
  {
   "cell_type": "code",
   "execution_count": null,
   "id": "283df273-0ba6-4b73-8ee4-e9469071ac1d",
   "metadata": {},
   "outputs": [],
   "source": [
    "fig, ax = plt.subplots()\n",
    "for i in range(len(t)-k):\n",
    "    ax.plot(x, bs.bspldnev(x, i, 3), label=f'{i}')\n",
    "ax.legend()\n",
    "plt.show()"
   ]
  },
  {
   "cell_type": "code",
   "execution_count": null,
   "id": "cfcc521e-e821-4bb2-9d0d-e4cb1d3586d4",
   "metadata": {},
   "outputs": [],
   "source": [
    "fig, ax = plt.subplots()\n",
    "for i in range(len(t)-k):\n",
    "    ax.plot(x, bs.bspldnev(x, i, 4), label=f'{i}')\n",
    "ax.legend()\n",
    "plt.show()"
   ]
  },
  {
   "cell_type": "markdown",
   "id": "7783e82f-1257-4138-8501-9275f0420747",
   "metadata": {},
   "source": [
    "# Approximating Functions\n",
    "\n",
    "Now we will use 4th order B-splines to approximate the function, $\\sin(2x)$, to test the spline coefficients are being solved properly."
   ]
  },
  {
   "cell_type": "code",
   "execution_count": null,
   "id": "f0f48b56-1db7-4458-8b8b-1d2133909660",
   "metadata": {},
   "outputs": [],
   "source": [
    "x = np.linspace(1, 4, 101)\n",
    "sin_2x = np.sin(x*2)\n",
    "t = np.array([1,1,1,1,1.5,2,2.5,3,3.5,4,4,4,4])\n",
    "tau = np.array([t[i+1:i+4].sum()/3 for i in range(9)])  # Greville Sites\n",
    "y = np.sin(tau*2)"
   ]
  },
  {
   "cell_type": "markdown",
   "id": "72050818-15d3-4190-a0c8-fe82dd86ed98",
   "metadata": {},
   "source": [
    "The first spline "
   ]
  },
  {
   "cell_type": "code",
   "execution_count": null,
   "id": "fb54543d-b21e-4f75-8c6e-0b1db74c88f5",
   "metadata": {},
   "outputs": [],
   "source": [
    "fig, ax = plt.subplots(1,1)\n",
    "ax.plot(x, x*0, c=(0,0,0,0.1))\n",
    "bs = BSpline(k=4, t=t)\n",
    "bs.bsplsolve(tau, y, 0, 0)\n",
    "ax.plot(x, bs.ppev(x), label='Spline', c=(1,0,0))\n",
    "ax.plot(x, sin_2x, label='True', c=(0,0,1)) \n",
    "ax.legend()\n",
    "plt.show()"
   ]
  },
  {
   "cell_type": "markdown",
   "id": "b9f4652f-1feb-4a14-9355-890f0befbad6",
   "metadata": {},
   "source": [
    "The difference, or error, in the approximations is plotted below when different datasites are used to solve the spline."
   ]
  },
  {
   "cell_type": "code",
   "execution_count": null,
   "id": "22867af1-78fb-4391-90ef-a474317294c6",
   "metadata": {},
   "outputs": [],
   "source": [
    "fig, ax = plt.subplots()\n",
    "ax.plot(x, x*0)\n",
    "for i in range(99):\n",
    "    dt = (i-50)*0.0025\n",
    "    tau = np.array([1, 1, 1.5+dt, 2+dt, 2.5+dt, 3+dt, 3.5+dt, 4, 4])\n",
    "    y = np.sin(tau*2)\n",
    "    y[0], y[-1] = 0, 0\n",
    "    bs = BSpline(k=4, t=t)\n",
    "    bs.bsplsolve(tau, y, 2, 2)\n",
    "    c = (1,0,0,1) if i == 50 else (0,0,1,0.05)\n",
    "    ax.plot(x, bs.ppev(x)-sin_2x, label='Spline', c=c)\n",
    "\n",
    "plt.show()"
   ]
  },
  {
   "cell_type": "code",
   "execution_count": null,
   "id": "dfa405a4-5319-4878-b146-99b28074fa48",
   "metadata": {},
   "outputs": [],
   "source": [
    "bs.ppev_single(4)"
   ]
  },
  {
   "cell_type": "code",
   "execution_count": null,
   "id": "6a473631-3060-4442-a6d8-5fc861809449",
   "metadata": {},
   "outputs": [],
   "source": [
    "fig, ax = plt.subplots()\n",
    "for i in range(len(t)-k):\n",
    "    ax.plot(x, bs.bspldnev(x, i, 0), label=f'{i}')\n",
    "ax.legend()\n",
    "plt.show()"
   ]
  }
 ],
 "metadata": {
  "kernelspec": {
   "display_name": "Python 3 (ipykernel)",
   "language": "python",
   "name": "python3"
  },
  "language_info": {
   "codemirror_mode": {
    "name": "ipython",
    "version": 3
   },
   "file_extension": ".py",
   "mimetype": "text/x-python",
   "name": "python",
   "nbconvert_exporter": "python",
   "pygments_lexer": "ipython3",
   "version": "3.9.5"
  }
 },
 "nbformat": 4,
 "nbformat_minor": 5
}
