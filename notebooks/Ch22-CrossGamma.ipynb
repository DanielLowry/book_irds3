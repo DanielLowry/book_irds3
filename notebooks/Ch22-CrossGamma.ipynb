{
 "cells": [
  {
   "cell_type": "code",
   "execution_count": null,
   "id": "b7b1ebea-0cd1-4bdd-8d3d-1cd9bc7060cc",
   "metadata": {},
   "outputs": [],
   "source": [
    "import module_loader\n",
    "import pandas as pd\n",
    "from bookirds.curves import *\n",
    "from bookirds.dual import Dual"
   ]
  },
  {
   "cell_type": "markdown",
   "id": "961f24c7-f02f-4c07-9199-8f230e4a1b35",
   "metadata": {},
   "source": [
    "## Forward zero coupon cross-gamma"
   ]
  },
  {
   "cell_type": "code",
   "execution_count": null,
   "id": "d08ff1ad-a21c-4f12-96aa-ee5120defa53",
   "metadata": {},
   "outputs": [],
   "source": [
    "nodes = {\n",
    "    datetime(2022, 1, 1): Dual(1, {\"v0\": 1}),\n",
    "    datetime(2023, 1, 1): Dual(1, {\"v1\": 1}),\n",
    "    datetime(2024, 1, 1): Dual(1, {\"v2\": 1}),\n",
    "    datetime(2025, 1, 1): Dual(1, {\"v3\": 1}),\n",
    "    datetime(2026, 1, 1): Dual(1, {\"v4\": 1}),\n",
    "    datetime(2027, 1, 1): Dual(1, {\"v5\": 1}),\n",
    "}\n",
    "swaps = {\n",
    "    Swap(datetime(2022,1,1), 12*1, 12, 12): 1.00,\n",
    "    Swap(datetime(2022,1,1), 12*2, 12, 12): 1.10,\n",
    "    Swap(datetime(2022,1,1), 12*3, 12, 12): 1.20,\n",
    "    Swap(datetime(2022,1,1), 12*4, 12, 12): 1.25,\n",
    "    Swap(datetime(2022,1,1), 12*5, 12, 12): 1.27,\n",
    "}\n",
    "s_cv = SolvedCurve(\n",
    "    nodes=nodes, interpolation=\"log_linear\",\n",
    "    obj_rates=list(swaps.values()), \n",
    "    swaps=list(swaps.keys()),\n",
    "    algorithm=\"levenberg_marquardt\"\n",
    ")\n",
    "s_cv.iterate()   "
   ]
  },
  {
   "cell_type": "code",
   "execution_count": null,
   "id": "3be296d1-4393-4262-8a2b-9e6b94d477a6",
   "metadata": {},
   "outputs": [],
   "source": [
    "portfolio = Portfolio([\n",
    "    Swap2(datetime(2022, 1, 1), 5*12, 12, 12, fixed_rate=25.0, notional=-8.3e8),\n",
    "])"
   ]
  },
  {
   "cell_type": "code",
   "execution_count": null,
   "id": "bd282c57-9a0b-4822-9d99-5fd04b730441",
   "metadata": {},
   "outputs": [],
   "source": [
    "dz, ds = portfolio.risk_fwd_zero_rates(s_cv)\n",
    "df = pd.DataFrame({\"dPdz\": dz[:,0], \"dPds\": ds[:,0], \"dPdr\": (dz+ds)[:,0]})\n",
    "df.style.format(\"{:,.0f}\")"
   ]
  },
  {
   "cell_type": "code",
   "execution_count": null,
   "id": "75cdacf7-b99d-4057-bb39-7adccf1a7481",
   "metadata": {},
   "outputs": [],
   "source": [
    "ss, sz, zz = portfolio.cross_gamma(s_cv)"
   ]
  },
  {
   "cell_type": "code",
   "execution_count": null,
   "id": "a8faea36-2d90-47d5-83cb-e29f1946b832",
   "metadata": {},
   "outputs": [],
   "source": [
    "G = np.block([[ss, sz, ss + sz],\n",
    "              [sz.T, zz, sz.T + zz],\n",
    "              [(ss + sz).T, (sz.T + zz).T, ss + sz + sz.T + zz]])\n",
    "labels = [\"s1\", \"s2\", \"s3\", \"s4\", \"s5\", \"z1\", \"z2\", \"z3\", \"z4\", \"z5\", \"r1\", \"r2\", \"r3\", \"r4\", \"r5\"]\n",
    "df = pd.DataFrame(G, index=labels, columns=labels)\n",
    "df.style.format(\"{:,.1f}\")"
   ]
  },
  {
   "cell_type": "code",
   "execution_count": null,
   "id": "f8ab58d7-ecfe-4c23-ace0-56e5859a0c04",
   "metadata": {},
   "outputs": [],
   "source": [
    "dx = np.array([0.2, 0.3, 0.2, 0.1, -0.1,\n",
    "               -1.1, -1.2, -1.1, -0.8, -0.5,\n",
    "               -5.2, -4.1, -2, 2.4, 7.8])[:, np.newaxis]\n",
    "np.matmul(np.matmul(dx[10:15, 0], G[10:15, 10:15]), dx[10:15, :])"
   ]
  },
  {
   "cell_type": "code",
   "execution_count": null,
   "id": "b450136b-3935-4592-b598-c05928d4b022",
   "metadata": {},
   "outputs": [],
   "source": [
    "np.matmul(np.matmul(dx.T, G), dx) / 2"
   ]
  },
  {
   "cell_type": "markdown",
   "id": "840583d6-ca46-4503-9053-75ad2551e223",
   "metadata": {},
   "source": [
    "## Testing the Jacobian Calculations"
   ]
  },
  {
   "cell_type": "code",
   "execution_count": null,
   "id": "dd657ba1-8ab1-4670-962c-e3bd2a03d4a1",
   "metadata": {},
   "outputs": [],
   "source": [
    "s_cv.grad_v_r"
   ]
  },
  {
   "cell_type": "code",
   "execution_count": null,
   "id": "6ec861b4-f257-4f5c-bba6-3d307abf1789",
   "metadata": {},
   "outputs": [],
   "source": [
    "s_cv.grad_r_v"
   ]
  },
  {
   "cell_type": "code",
   "execution_count": null,
   "id": "94fc41fb-0a94-4f0d-a479-1d3807f88001",
   "metadata": {},
   "outputs": [],
   "source": [
    "pd.DataFrame(np.matmul(s_cv.grad_v_r, s_cv.grad_r_v)).style"
   ]
  },
  {
   "cell_type": "markdown",
   "id": "c4c8c9fc-8778-4bf7-8a42-f5be0f491cc9",
   "metadata": {},
   "source": [
    "## Delta/Delta Cross-Gamma on a 5Y IRS expressed in Par space"
   ]
  },
  {
   "cell_type": "code",
   "execution_count": null,
   "id": "6407fc60-da03-4732-bcee-fd3b33d7dbdd",
   "metadata": {},
   "outputs": [],
   "source": [
    "portfolio = Portfolio([\n",
    "    Swap2(datetime(2022, 1, 1), 5*12, 12, 12, fixed_rate=1.270, notional=-100e6),\n",
    "])"
   ]
  },
  {
   "cell_type": "code",
   "execution_count": null,
   "id": "9c4f42d8-2e02-4d6a-abdb-879a60e375a8",
   "metadata": {},
   "outputs": [],
   "source": [
    "names = [\"1Y\", \"2Y\", \"3Y\", \"4Y\", \"5Y\"]\n",
    "ss, sz, zz = portfolio.cross_gamma(s_cv, swaps=True)\n",
    "G = np.block([[ss, sz, ss + sz],\n",
    "              [sz.T, zz, sz.T + zz],\n",
    "              [(ss + sz).T, (sz.T + zz).T, ss + sz + sz.T + zz]])\n",
    "labels = [\"1Ys\", \"2Ys\", \"3Ys\", \"4Ys\", \"5Ys\", \n",
    "          \"1Yz\", \"2Yz\", \"3Yz\", \"4Yz\", \"5Yz\", \n",
    "          \"1Yr\", \"2Yr\", \"3Yr\", \"4Yr\", \"5Yr\"]\n",
    "df = pd.DataFrame(G, index=labels, columns=labels)\n",
    "df.style.format(\"{:,.0f}\").applymap(lambda v: \"color: red;\" if v < 0 else \"\")"
   ]
  },
  {
   "cell_type": "code",
   "execution_count": null,
   "id": "6c42ee50-cf0c-44c0-b960-837dbfc3197c",
   "metadata": {},
   "outputs": [],
   "source": [
    "df2 = df.loc[[\"1Yr\", \"2Yr\", \"3Yr\", \"4Yr\", \"5Yr\"], [\"1Yr\", \"2Yr\", \"3Yr\", \"4Yr\", \"5Yr\"]]\n",
    "df2\n",
    "df2[\"Total\"] = df2.sum(axis=1)\n",
    "df2.loc[\"Total\", :] = df2.sum(axis=0)\n",
    "df2.style.format(\"{:,.1f}\").applymap(lambda v: \"color: red;\" if v < 0 else \"\")"
   ]
  },
  {
   "cell_type": "markdown",
   "id": "15b3939e-80c6-4af9-aa0e-90f8caf69265",
   "metadata": {},
   "source": [
    "Comparison with the simple formula"
   ]
  },
  {
   "cell_type": "code",
   "execution_count": null,
   "id": "e833b6f6-eaba-48a9-a8d7-95310a432181",
   "metadata": {},
   "outputs": [],
   "source": [
    "df = pd.DataFrame(portfolio.risk(s_cv), index=names)\n",
    "df.style.format(\"{:,.0f}\").applymap(lambda v: \"color: red;\" if v < 0 else \"\")"
   ]
  },
  {
   "cell_type": "markdown",
   "id": "ac633038-2868-4779-be7e-b8822562179a",
   "metadata": {},
   "source": [
    "$$\\frac{D^2 P}{D \\mathbf{r}^2} \\approx - \\frac{h+i}{10,000} S = \\frac{6 * 48,260}{10,000} = 28.9 $$"
   ]
  }
 ],
 "metadata": {
  "kernelspec": {
   "display_name": "Python 3 (ipykernel)",
   "language": "python",
   "name": "python3"
  },
  "language_info": {
   "codemirror_mode": {
    "name": "ipython",
    "version": 3
   },
   "file_extension": ".py",
   "mimetype": "text/x-python",
   "name": "python",
   "nbconvert_exporter": "python",
   "pygments_lexer": "ipython3",
   "version": "3.9.5"
  }
 },
 "nbformat": 4,
 "nbformat_minor": 5
}
