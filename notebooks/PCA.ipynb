{
 "cells": [
  {
   "cell_type": "code",
   "execution_count": null,
   "id": "ea9ee291-d0d2-4715-9cad-106029e99d30",
   "metadata": {},
   "outputs": [],
   "source": [
    "import module_loader\n",
    "import pandas as pd\n",
    "from modules.curves import *\n",
    "from modules.dual import Dual"
   ]
  },
  {
   "cell_type": "markdown",
   "id": "a8a1fe0a-5710-4fef-b304-ebfe5e118528",
   "metadata": {},
   "source": [
    "# Principal Component Analysis Methods\n",
    "\n",
    "### Build a simple curve for risking and pricing"
   ]
  },
  {
   "cell_type": "code",
   "execution_count": null,
   "id": "983d5e1d-09e5-4270-83cd-f1d7e8d6eac4",
   "metadata": {},
   "outputs": [],
   "source": [
    "nodes = {\n",
    "    datetime(2022, 1, 1): Dual(1, {\"v0\": 1}),\n",
    "    datetime(2024, 1, 1): Dual(1, {\"v1\": 1}),\n",
    "    datetime(2027, 1, 1): Dual(1, {\"v2\": 1}),\n",
    "    datetime(2032, 1, 1): Dual(1, {\"v3\": 1}),\n",
    "    datetime(2052, 1, 1): Dual(1, {\"v4\": 1}),\n",
    "}\n",
    "swaps = {\n",
    "    Swap(datetime(2022, 1, 1), 12*2, 12, 12): 1.20,\n",
    "    Swap(datetime(2022, 1, 1), 12*5, 12, 12): 1.66,\n",
    "    Swap(datetime(2022, 1, 1), 12*10, 12, 12): 1.93,\n",
    "    Swap(datetime(2022, 1, 1), 12*30, 12, 12): 2.20,\n",
    "}\n",
    "s_cv = SolvedCurve(nodes=nodes, interpolation=\"log_linear\", swaps=list(swaps.keys()), obj_rates=list(swaps.values()))\n",
    "s_cv.iterate()  "
   ]
  },
  {
   "cell_type": "markdown",
   "id": "90fd6e9e-0af0-4984-8a9e-a7054947e8b7",
   "metadata": {},
   "source": [
    "### Add a short historical data sample for covariance"
   ]
  },
  {
   "cell_type": "code",
   "execution_count": null,
   "id": "a157d10b-0064-410f-afb9-796f23217928",
   "metadata": {},
   "outputs": [],
   "source": [
    "historical_rates = pd.DataFrame({\n",
    "    \"2Y\": [1.199, 1.228, 1.210, 1.215, 1.203, 1.159, 1.175, 1.188, 1.159, 1.100],\n",
    "    \"5Y\": [1.663, 1.696, 1.665, 1.680, 1.677, 1.657, 1.673, 1.676, 1.653, 1.600],\n",
    "    \"10Y\": [1.928, 1.945, 1.934, 1.93, 1.934, 1.931, 1.958, 1.972, 1.932, 1.900],\n",
    "    \"30Y\": [2.201, 2.217, 2.228, 2.239, 2.226, 2.235, 2.242, 2.236, 2.22, 2.200],\n",
    "})\n",
    "historical_chgs = historical_rates.diff(-1)*100\n",
    "Q = historical_chgs.cov().to_numpy()\n",
    "Q"
   ]
  },
  {
   "cell_type": "markdown",
   "id": "f2a6b7f0-24cc-45d2-9c3f-9ac7f5017b3e",
   "metadata": {},
   "source": [
    "### Create a portfolio of swaps replicating the risks in the text"
   ]
  },
  {
   "cell_type": "code",
   "execution_count": null,
   "id": "b8f8765a-5102-4747-be90-c39d05c8a8a8",
   "metadata": {},
   "outputs": [],
   "source": [
    "portfolio = Portfolio(objects=[\n",
    "    Swap(datetime(2022,1,1), 12*2, 12, 12, notional=-1.272e6),\n",
    "    Swap(datetime(2022,1,1), 12*5, 12, 12, notional=313545),\n",
    "    Swap(datetime(2022,1,1), 12*10, 12, 12, notional=109931),\n",
    "    Swap(datetime(2022,1,1), 12*30, 12, 12, notional=27160),\n",
    "])  "
   ]
  },
  {
   "cell_type": "markdown",
   "id": "cfb47c04-7cc8-4e4a-a1bd-c2ffc7e0d8ef",
   "metadata": {},
   "source": [
    "### Utilise all the PCA methods displaying results"
   ]
  },
  {
   "cell_type": "code",
   "execution_count": null,
   "id": "2761c673-a147-4745-8f16-bcd324813eb5",
   "metadata": {},
   "outputs": [],
   "source": [
    "lambd, E = portfolio.pca(Q)\n",
    "print(lambd)\n",
    "print(E)"
   ]
  },
  {
   "cell_type": "code",
   "execution_count": null,
   "id": "862a9054-b07d-4cf1-bea3-3135be9eed58",
   "metadata": {},
   "outputs": [],
   "source": [
    "portfolio.historical_multipliers(Q, historical_chgs)"
   ]
  },
  {
   "cell_type": "code",
   "execution_count": null,
   "id": "c146008f-a07b-4450-9724-749fbfab9a95",
   "metadata": {},
   "outputs": [],
   "source": [
    "portfolio.risk(s_cv)"
   ]
  },
  {
   "cell_type": "code",
   "execution_count": null,
   "id": "3284b146-9bd9-4e50-84e7-ec9f59172e2d",
   "metadata": {},
   "outputs": [],
   "source": [
    "portfolio.pca_risk(s_cv, Q)"
   ]
  },
  {
   "cell_type": "code",
   "execution_count": null,
   "id": "62a42fec-5949-4953-8427-c64223319b47",
   "metadata": {},
   "outputs": [],
   "source": [
    "portfolio.pca_covar_alloc(s_cv, Q)"
   ]
  }
 ],
 "metadata": {
  "kernelspec": {
   "display_name": "Python 3 (ipykernel)",
   "language": "python",
   "name": "python3"
  },
  "language_info": {
   "codemirror_mode": {
    "name": "ipython",
    "version": 3
   },
   "file_extension": ".py",
   "mimetype": "text/x-python",
   "name": "python",
   "nbconvert_exporter": "python",
   "pygments_lexer": "ipython3",
   "version": "3.9.5"
  }
 },
 "nbformat": 4,
 "nbformat_minor": 5
}
