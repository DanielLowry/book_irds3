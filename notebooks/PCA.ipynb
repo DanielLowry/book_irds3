{
 "cells": [
  {
   "cell_type": "code",
   "execution_count": null,
   "id": "ea9ee291-d0d2-4715-9cad-106029e99d30",
   "metadata": {},
   "outputs": [],
   "source": [
    "import module_loader\n",
    "import pandas as pd\n",
    "from modules.curves import *\n",
    "from modules.dual import Dual"
   ]
  },
  {
   "cell_type": "markdown",
   "id": "a8a1fe0a-5710-4fef-b304-ebfe5e118528",
   "metadata": {},
   "source": [
    "# Principal Component Analysis Methods\n",
    "\n",
    "### Build a simple curve for risking and pricing"
   ]
  },
  {
   "cell_type": "code",
   "execution_count": null,
   "id": "983d5e1d-09e5-4270-83cd-f1d7e8d6eac4",
   "metadata": {},
   "outputs": [],
   "source": [
    "nodes = {\n",
    "    datetime(2022, 1, 1): Dual(1, {\"v0\": 1}),\n",
    "    datetime(2024, 1, 1): Dual(1, {\"v1\": 1}),\n",
    "    datetime(2027, 1, 1): Dual(1, {\"v2\": 1}),\n",
    "    datetime(2032, 1, 1): Dual(1, {\"v3\": 1}),\n",
    "    datetime(2052, 1, 1): Dual(1, {\"v4\": 1}),\n",
    "}\n",
    "swaps = {\n",
    "    Swap(datetime(2022, 1, 1), 12*2, 12, 12): 1.20,\n",
    "    Swap(datetime(2022, 1, 1), 12*5, 12, 12): 1.66,\n",
    "    Swap(datetime(2022, 1, 1), 12*10, 12, 12): 1.93,\n",
    "    Swap(datetime(2022, 1, 1), 12*30, 12, 12): 2.20,\n",
    "}\n",
    "s_cv = SolvedCurve(nodes=nodes, interpolation=\"log_linear\", swaps=list(swaps.keys()), obj_rates=list(swaps.values()))\n",
    "s_cv.iterate()  "
   ]
  },
  {
   "cell_type": "markdown",
   "id": "90fd6e9e-0af0-4984-8a9e-a7054947e8b7",
   "metadata": {},
   "source": [
    "### Add a short historical data sample for covariance"
   ]
  },
  {
   "cell_type": "code",
   "execution_count": null,
   "id": "a157d10b-0064-410f-afb9-796f23217928",
   "metadata": {},
   "outputs": [],
   "source": [
    "historical_rates = pd.DataFrame({\n",
    "    \"2Y\": [1.199, 1.228, 1.210, 1.215, 1.203, 1.159, 1.175, 1.188, 1.159, 1.100],\n",
    "    \"5Y\": [1.663, 1.696, 1.665, 1.680, 1.677, 1.657, 1.673, 1.676, 1.653, 1.600],\n",
    "    \"10Y\": [1.928, 1.945, 1.934, 1.93, 1.934, 1.931, 1.958, 1.972, 1.932, 1.900],\n",
    "    \"30Y\": [2.201, 2.217, 2.228, 2.239, 2.226, 2.235, 2.242, 2.236, 2.22, 2.200],\n",
    "})\n",
    "historical_chgs = historical_rates.diff(-1)*100\n",
    "Q = historical_chgs.cov().to_numpy()\n",
    "Q"
   ]
  },
  {
   "cell_type": "markdown",
   "id": "f2a6b7f0-24cc-45d2-9c3f-9ac7f5017b3e",
   "metadata": {},
   "source": [
    "### Create a portfolio of swaps replicating the risks in the text"
   ]
  },
  {
   "cell_type": "code",
   "execution_count": null,
   "id": "b8f8765a-5102-4747-be90-c39d05c8a8a8",
   "metadata": {},
   "outputs": [],
   "source": [
    "portfolio = Portfolio(objects=[\n",
    "    Swap(datetime(2022,1,1), 12*2, 12, 12, notional=-1.272e6),\n",
    "    Swap(datetime(2022,1,1), 12*5, 12, 12, notional=313545),\n",
    "    Swap(datetime(2022,1,1), 12*10, 12, 12, notional=109931),\n",
    "    Swap(datetime(2022,1,1), 12*30, 12, 12, notional=27160),\n",
    "])  "
   ]
  },
  {
   "cell_type": "markdown",
   "id": "cfb47c04-7cc8-4e4a-a1bd-c2ffc7e0d8ef",
   "metadata": {},
   "source": [
    "### Utilise all the PCA methods displaying results in table"
   ]
  },
  {
   "cell_type": "code",
   "execution_count": null,
   "id": "2761c673-a147-4745-8f16-bcd324813eb5",
   "metadata": {},
   "outputs": [],
   "source": [
    "lambd, E = portfolio.pca(Q)\n",
    "print(lambd)\n",
    "print(E)"
   ]
  },
  {
   "cell_type": "code",
   "execution_count": null,
   "id": "862a9054-b07d-4cf1-bea3-3135be9eed58",
   "metadata": {},
   "outputs": [],
   "source": [
    "portfolio.historical_multipliers(Q, historical_chgs)"
   ]
  },
  {
   "cell_type": "code",
   "execution_count": null,
   "id": "c146008f-a07b-4450-9724-749fbfab9a95",
   "metadata": {},
   "outputs": [],
   "source": [
    "portfolio.risk(s_cv)"
   ]
  },
  {
   "cell_type": "code",
   "execution_count": null,
   "id": "3284b146-9bd9-4e50-84e7-ec9f59172e2d",
   "metadata": {},
   "outputs": [],
   "source": [
    "portfolio.pca_risk(s_cv, Q)"
   ]
  },
  {
   "cell_type": "code",
   "execution_count": null,
   "id": "62a42fec-5949-4953-8427-c64223319b47",
   "metadata": {},
   "outputs": [],
   "source": [
    "portfolio.pca_covar_alloc(s_cv, Q)"
   ]
  },
  {
   "cell_type": "markdown",
   "id": "0d0f8592-a665-4b3a-94fc-702a5ef7b058",
   "metadata": {},
   "source": [
    "### Hedging trades for directionality"
   ]
  },
  {
   "cell_type": "code",
   "execution_count": null,
   "id": "e03efe64-20dc-4ef1-af86-41f9a9536317",
   "metadata": {},
   "outputs": [],
   "source": [
    "S_ini = np.array([-10000, 20000, -10000, 0])[:, np.newaxis]\n",
    "S_ini"
   ]
  },
  {
   "cell_type": "markdown",
   "id": "777c287f-1201-42cc-ac9a-91ef80322f07",
   "metadata": {},
   "source": [
    "The folowing adjustments yield a trade with zero risk to PC1"
   ]
  },
  {
   "cell_type": "code",
   "execution_count": null,
   "id": "a170ff9f-b4f0-4b19-9d6f-f6c28b1deaeb",
   "metadata": {},
   "outputs": [],
   "source": [
    "portfolio.pca_hedge_adjustment(Q, S_ini)"
   ]
  },
  {
   "cell_type": "code",
   "execution_count": null,
   "id": "c8c43531-67b0-4695-99b4-b3e4ff0c118b",
   "metadata": {},
   "outputs": [],
   "source": [
    "print(\"PCA Risk:\\n\", np.matmul(E.T, S_ini + portfolio.pca_hedge_adjustment(Q, S_ini)))"
   ]
  },
  {
   "cell_type": "markdown",
   "id": "13b646b4-eae0-4b42-b9c8-3cdad1f7385e",
   "metadata": {},
   "source": [
    "The problem with the above minimal adjustment is that it includes a 30Y bucket even though 30Y was not considered in the original trade. We can explicitly set that bucket to be zero in our directionality adjustment."
   ]
  },
  {
   "cell_type": "code",
   "execution_count": null,
   "id": "dfebd1bf-5915-4fdc-a779-7dbafead7441",
   "metadata": {},
   "outputs": [],
   "source": [
    "portfolio.pca_hedge_adjustment(Q, S_ini, L=[3])"
   ]
  },
  {
   "cell_type": "code",
   "execution_count": null,
   "id": "5cbf824f-1cbd-4280-9a94-dc4fc680e683",
   "metadata": {},
   "outputs": [],
   "source": [
    "print(\"PCA Risk:\\n\", np.matmul(E.T, S_ini + portfolio.pca_hedge_adjustment(Q, S_ini, L=[3])))"
   ]
  },
  {
   "cell_type": "code",
   "execution_count": null,
   "id": "40cf4179-2d72-437f-9882-cb9d59b97dd7",
   "metadata": {},
   "outputs": [],
   "source": [
    "S_adj = S_ini + portfolio.pca_hedge_adjustment(Q, S_ini, L=[3])\n",
    "S_adj"
   ]
  },
  {
   "cell_type": "markdown",
   "id": "73bf8d41-e06e-4a25-91cf-e6951ab30608",
   "metadata": {},
   "source": [
    "If desired we could also negate multiple PCs"
   ]
  },
  {
   "cell_type": "code",
   "execution_count": null,
   "id": "cb33202f-52ab-4e7f-86c5-87203e5ac985",
   "metadata": {},
   "outputs": [],
   "source": [
    "portfolio.pca_hedge_adjustment(Q, S_ini, H=[0,2], L=[3])"
   ]
  },
  {
   "cell_type": "code",
   "execution_count": null,
   "id": "fa3f8ce1-256b-4de4-8cd5-8e9a281bdf37",
   "metadata": {},
   "outputs": [],
   "source": [
    "print(\"PCA Risk:\\n\", np.matmul(E.T, S_ini + portfolio.pca_hedge_adjustment(Q, S_ini, H=[0,2], L=[3])))"
   ]
  },
  {
   "cell_type": "markdown",
   "id": "a8f2b44b-58dc-4bdb-b952-3b1b242e6c75",
   "metadata": {},
   "source": [
    "This however, can be quite unstable and can vastly change the initial representation of the trade, which is probably not desired in most cases."
   ]
  },
  {
   "cell_type": "markdown",
   "id": "712bdf6c-3425-41ff-a45b-9d902530bdfd",
   "metadata": {},
   "source": [
    "### Example in Text"
   ]
  },
  {
   "cell_type": "code",
   "execution_count": null,
   "id": "d291c63b-e4f7-4756-83ff-e972a6877481",
   "metadata": {},
   "outputs": [],
   "source": [
    "market_movement = np.array([17.2, 18.1, 12.5, 8.1])[:, np.newaxis]\n",
    "print(\"PnL: \", np.matmul(S_adj.T, market_movement))"
   ]
  },
  {
   "cell_type": "code",
   "execution_count": null,
   "id": "600755e7-796a-40b8-9312-a551991dfcbc",
   "metadata": {},
   "outputs": [],
   "source": [
    "nc_multipliers = np.matmul(centralised_mm.T, E).T\n",
    "nc_multipliers"
   ]
  },
  {
   "cell_type": "code",
   "execution_count": null,
   "id": "9a0965fc-0a03-4144-a129-c99e77822e2d",
   "metadata": {},
   "outputs": [],
   "source": [
    "print(\"PnL from PCA: \", np.matmul(np.matmul(E.T, S_adj).T, nc_multipliers))"
   ]
  },
  {
   "cell_type": "code",
   "execution_count": null,
   "id": "f208ef5c-371b-47a0-b34a-48763254b2b4",
   "metadata": {},
   "outputs": [],
   "source": [
    "nc_multiplier_neg = nc_multipliers.copy()\n",
    "nc_multiplier_neg[1,0] = 0\n",
    "nc_multiplier_neg[2,0] = 0\n",
    "nc_multiplier_neg[3,0] = 0"
   ]
  },
  {
   "cell_type": "code",
   "execution_count": null,
   "id": "c27ede01-432e-4171-a7b4-cf3453c6b4b1",
   "metadata": {},
   "outputs": [],
   "source": [
    "mm_adj = np.matmul(E, multiplier_neg)\n",
    "mm_adj"
   ]
  },
  {
   "cell_type": "code",
   "execution_count": null,
   "id": "696c9585-b439-4251-a64e-31afe2acad03",
   "metadata": {},
   "outputs": [],
   "source": [
    "residuals = market_movement - mm_adj\n",
    "residuals"
   ]
  },
  {
   "cell_type": "code",
   "execution_count": null,
   "id": "4289e1ad-421f-49c8-839e-921c3212f9c3",
   "metadata": {},
   "outputs": [],
   "source": [
    "(residuals * S_adj).sum()"
   ]
  }
 ],
 "metadata": {
  "kernelspec": {
   "display_name": "Python 3 (ipykernel)",
   "language": "python",
   "name": "python3"
  },
  "language_info": {
   "codemirror_mode": {
    "name": "ipython",
    "version": 3
   },
   "file_extension": ".py",
   "mimetype": "text/x-python",
   "name": "python",
   "nbconvert_exporter": "python",
   "pygments_lexer": "ipython3",
   "version": "3.9.5"
  }
 },
 "nbformat": 4,
 "nbformat_minor": 5
}
