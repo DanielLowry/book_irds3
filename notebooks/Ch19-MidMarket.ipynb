{
 "cells": [
  {
   "cell_type": "code",
   "execution_count": 8,
   "id": "4caab84d-7e7c-4a59-bc9d-aa694b72c437",
   "metadata": {},
   "outputs": [],
   "source": [
    "import module_loader\n",
    "import pandas as pd\n",
    "from modules.mid_market import *"
   ]
  },
  {
   "cell_type": "markdown",
   "id": "5bfcbec4-5830-4ceb-af34-71ba00d26693",
   "metadata": {},
   "source": [
    "# Mid-Market Algos"
   ]
  },
  {
   "cell_type": "code",
   "execution_count": 9,
   "id": "66bb78c9-cdc4-496a-8b3f-41065f089dd7",
   "metadata": {},
   "outputs": [
    {
     "data": {
      "text/html": [
       "<div>\n",
       "<style scoped>\n",
       "    .dataframe tbody tr th:only-of-type {\n",
       "        vertical-align: middle;\n",
       "    }\n",
       "\n",
       "    .dataframe tbody tr th {\n",
       "        vertical-align: top;\n",
       "    }\n",
       "\n",
       "    .dataframe thead th {\n",
       "        text-align: right;\n",
       "    }\n",
       "</style>\n",
       "<table border=\"1\" class=\"dataframe\">\n",
       "  <thead>\n",
       "    <tr style=\"text-align: right;\">\n",
       "      <th></th>\n",
       "      <th>w</th>\n",
       "      <th>b</th>\n",
       "      <th>a</th>\n",
       "      <th>v</th>\n",
       "    </tr>\n",
       "  </thead>\n",
       "  <tbody>\n",
       "    <tr>\n",
       "      <th>0</th>\n",
       "      <td>10</td>\n",
       "      <td>99.05</td>\n",
       "      <td>99.06</td>\n",
       "      <td>5</td>\n",
       "    </tr>\n",
       "    <tr>\n",
       "      <th>1</th>\n",
       "      <td>5</td>\n",
       "      <td>99.04</td>\n",
       "      <td>99.07</td>\n",
       "      <td>10</td>\n",
       "    </tr>\n",
       "    <tr>\n",
       "      <th>2</th>\n",
       "      <td>10</td>\n",
       "      <td>99.03</td>\n",
       "      <td>99.08</td>\n",
       "      <td>15</td>\n",
       "    </tr>\n",
       "    <tr>\n",
       "      <th>3</th>\n",
       "      <td>5</td>\n",
       "      <td>99.02</td>\n",
       "      <td>99.09</td>\n",
       "      <td>10</td>\n",
       "    </tr>\n",
       "    <tr>\n",
       "      <th>4</th>\n",
       "      <td>10</td>\n",
       "      <td>99.01</td>\n",
       "      <td>99.10</td>\n",
       "      <td>5</td>\n",
       "    </tr>\n",
       "  </tbody>\n",
       "</table>\n",
       "</div>"
      ],
      "text/plain": [
       "    w      b      a   v\n",
       "0  10  99.05  99.06   5\n",
       "1   5  99.04  99.07  10\n",
       "2  10  99.03  99.08  15\n",
       "3   5  99.02  99.09  10\n",
       "4  10  99.01  99.10   5"
      ]
     },
     "execution_count": 9,
     "metadata": {},
     "output_type": "execute_result"
    }
   ],
   "source": [
    "w = np.array([10, 5, 10, 5, 10])\n",
    "b = np.array([99.05, 99.04, 99.03, 99.02, 99.01])\n",
    "a = np.array([99.06, 99.07, 99.08, 99.09, 99.10])\n",
    "v = np.array([5, 10, 15, 10, 5])\n",
    "\n",
    "df = pd.DataFrame({\"w\": w, \"b\": b, \"a\": a, \"v\": v})\n",
    "df"
   ]
  },
  {
   "cell_type": "code",
   "execution_count": 22,
   "id": "3e869681-187e-4136-96b0-a0ea81407c07",
   "metadata": {},
   "outputs": [],
   "source": [
    "z = np.linspace(1, 40, 400)"
   ]
  },
  {
   "cell_type": "code",
   "execution_count": 23,
   "id": "71282afd-bf8a-4d9c-9fe7-a6a00f54e7db",
   "metadata": {},
   "outputs": [],
   "source": [
    "afda = [arithmetic_first_depth_average(b, w, a, v) for x in z]\n",
    "wfda = [weighted_first_depth_average(b, w, a, v) for x in z]\n",
    "ida = [intrinsic_depth_average(b, w, a, v, x) for x in z]\n",
    "mida = [mean_intrinsic_depth_average(b, w, a, v, x) for x in z]"
   ]
  },
  {
   "cell_type": "code",
   "execution_count": 24,
   "id": "a6666359-8d35-4988-a166-6bec6b7eb6bd",
   "metadata": {},
   "outputs": [
    {
     "data": {
      "image/png": "[encoded data removed]",
      "text/plain": [
       "<Figure size 432x288 with 1 Axes>"
      ]
     },
     "metadata": {
      "needs_background": "light"
     },
     "output_type": "display_data"
    }
   ],
   "source": [
    "import matplotlib.pyplot as plt\n",
    "fig, ax = plt.subplots(1,1)\n",
    "ax.scatter(z, afda, s=0.35, label=\"afda\")\n",
    "ax.scatter(z, wfda, s=0.35, label=\"wfda\")\n",
    "ax.scatter(z, ida, s=0.35, label=\"ida\")\n",
    "ax.scatter(z, mida, s=0.35, label=\"mida\")\n",
    "ax.legend()\n",
    "plt.show()"
   ]
  },
  {
   "cell_type": "markdown",
   "id": "6acb5c3c-45d7-40f7-9178-784df8185987",
   "metadata": {},
   "source": [
    "# Bayesian Inference"
   ]
  },
  {
   "cell_type": "code",
   "execution_count": 25,
   "id": "ebafb1fe-982c-4abe-badf-bde9140b0739",
   "metadata": {},
   "outputs": [
    {
     "data": {
      "text/plain": [
       "array([[2.      ],\n",
       "       [1.      ],\n",
       "       [2.      ],\n",
       "       [1.294279]])"
      ]
     },
     "execution_count": 25,
     "metadata": {},
     "output_type": "execute_result"
    }
   ],
   "source": [
    "x = np.array([[2, 1, 2.0]]).transpose()\n",
    "Q = np.array([\n",
    "    [1.0, 0.8, 0.85, 0.75],\n",
    "    [0.8, 1.0, 0.87, 0.84],\n",
    "    [0.85, 0.87, 1.0, 0.82],\n",
    "    [0.75, 0.84, 0.82, 1.0]\n",
    "])\n",
    "bayes_inferred_market_moves(Q, [3], x)"
   ]
  },
  {
   "cell_type": "code",
   "execution_count": null,
   "id": "55c086b1-c25a-42e2-b94b-6c9e91976c6c",
   "metadata": {},
   "outputs": [],
   "source": []
  }
 ],
 "metadata": {
  "kernelspec": {
   "display_name": "Python 3 (ipykernel)",
   "language": "python",
   "name": "python3"
  },
  "language_info": {
   "codemirror_mode": {
    "name": "ipython",
    "version": 3
   },
   "file_extension": ".py",
   "mimetype": "text/x-python",
   "name": "python",
   "nbconvert_exporter": "python",
   "pygments_lexer": "ipython3",
   "version": "3.9.5"
  }
 },
 "nbformat": 4,
 "nbformat_minor": 5
}
