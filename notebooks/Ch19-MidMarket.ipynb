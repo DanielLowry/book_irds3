{
 "cells": [
  {
   "cell_type": "code",
   "execution_count": null,
   "id": "4caab84d-7e7c-4a59-bc9d-aa694b72c437",
   "metadata": {},
   "outputs": [],
   "source": [
    "import module_loader\n",
    "import pandas as pd\n",
    "from bookirds.mid_market import *"
   ]
  },
  {
   "cell_type": "markdown",
   "id": "5bfcbec4-5830-4ceb-af34-71ba00d26693",
   "metadata": {},
   "source": [
    "# Mid-Market Algos"
   ]
  },
  {
   "cell_type": "code",
   "execution_count": null,
   "id": "66bb78c9-cdc4-496a-8b3f-41065f089dd7",
   "metadata": {},
   "outputs": [],
   "source": [
    "w = np.array([10, 5, 10, 5, 10])\n",
    "b = np.array([99.05, 99.04, 99.03, 99.02, 99.01])\n",
    "a = np.array([99.06, 99.07, 99.08, 99.09, 99.10])\n",
    "v = np.array([5, 10, 15, 10, 5])\n",
    "\n",
    "df = pd.DataFrame({\"w\": w, \"b\": b, \"a\": a, \"v\": v})\n",
    "df"
   ]
  },
  {
   "cell_type": "code",
   "execution_count": null,
   "id": "3e869681-187e-4136-96b0-a0ea81407c07",
   "metadata": {},
   "outputs": [],
   "source": [
    "z = np.linspace(1, 40, 400)"
   ]
  },
  {
   "cell_type": "code",
   "execution_count": null,
   "id": "71282afd-bf8a-4d9c-9fe7-a6a00f54e7db",
   "metadata": {},
   "outputs": [],
   "source": [
    "afda = [arithmetic_first_depth_average(b, w, a, v) for x in z]\n",
    "wfda = [weighted_first_depth_average(b, w, a, v) for x in z]\n",
    "ida = [intrinsic_depth_average(b, w, a, v, x) for x in z]\n",
    "mida = [mean_intrinsic_depth_average(b, w, a, v, x) for x in z]"
   ]
  },
  {
   "cell_type": "code",
   "execution_count": null,
   "id": "a6666359-8d35-4988-a166-6bec6b7eb6bd",
   "metadata": {},
   "outputs": [],
   "source": [
    "import matplotlib.pyplot as plt\n",
    "fig, ax = plt.subplots(1,1)\n",
    "ax.scatter(z, afda, s=0.35, label=\"afda\")\n",
    "ax.scatter(z, wfda, s=0.35, label=\"wfda\")\n",
    "ax.scatter(z, ida, s=0.35, label=\"ida\")\n",
    "ax.scatter(z, mida, s=0.35, label=\"mida\")\n",
    "ax.legend()\n",
    "plt.show()"
   ]
  },
  {
   "cell_type": "markdown",
   "id": "6acb5c3c-45d7-40f7-9178-784df8185987",
   "metadata": {},
   "source": [
    "# Bayesian Inference"
   ]
  },
  {
   "cell_type": "code",
   "execution_count": null,
   "id": "ebafb1fe-982c-4abe-badf-bde9140b0739",
   "metadata": {},
   "outputs": [],
   "source": [
    "x = np.array([[2, 1, 2.0]]).transpose()\n",
    "Q = np.array([\n",
    "    [1.0, 0.8, 0.85, 0.75],\n",
    "    [0.8, 1.0, 0.87, 0.84],\n",
    "    [0.85, 0.87, 1.0, 0.82],\n",
    "    [0.75, 0.84, 0.82, 1.0]\n",
    "])\n",
    "bayes_inferred_market_moves(Q, [3], x)"
   ]
  },
  {
   "cell_type": "code",
   "execution_count": null,
   "id": "0440c04e-3553-448b-b492-82c3bc284cb2",
   "metadata": {},
   "outputs": [],
   "source": [
    "x2 = np.array([[0.5, -1.5, 0]]).T\n",
    "bayes_inferred_market_moves(Q, [3], x2)"
   ]
  }
 ],
 "metadata": {
  "kernelspec": {
   "display_name": "Python 3 (ipykernel)",
   "language": "python",
   "name": "python3"
  },
  "language_info": {
   "codemirror_mode": {
    "name": "ipython",
    "version": 3
   },
   "file_extension": ".py",
   "mimetype": "text/x-python",
   "name": "python",
   "nbconvert_exporter": "python",
   "pygments_lexer": "ipython3",
   "version": "3.9.5"
  }
 },
 "nbformat": 4,
 "nbformat_minor": 5
}
