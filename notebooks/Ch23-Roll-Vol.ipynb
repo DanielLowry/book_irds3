{
 "cells": [
  {
   "cell_type": "code",
   "execution_count": null,
   "id": "8cedbba2-359a-4d22-931c-b3fe6506d3a8",
   "metadata": {},
   "outputs": [],
   "source": [
    "import module_loader\n",
    "import pandas as pd\n",
    "from bookirds.curves import *\n",
    "from bookirds.dual import Dual"
   ]
  },
  {
   "cell_type": "code",
   "execution_count": null,
   "id": "7d55a8e9-e1a8-4d5c-8ca2-a10fb04d1f8b",
   "metadata": {},
   "outputs": [],
   "source": [
    "nodes = {\n",
    "    datetime(2022, 1, 1): Dual(1, {\"v0\": 1}),\n",
    "    datetime(2024, 1, 1): Dual(1, {\"v1\": 1}),\n",
    "    datetime(2027, 1, 1): Dual(1, {\"v2\": 1}),\n",
    "    datetime(2032, 1, 1): Dual(1, {\"v3\": 1}),\n",
    "    datetime(2052, 1, 1): Dual(1, {\"v4\": 1}),\n",
    "    datetime(2072, 1, 1): Dual(1, {\"v5\": 1}),\n",
    "}\n",
    "swaps = {\n",
    "    Swap2(datetime(2022, 1, 1), 12*2, 12, 12): -0.21,\n",
    "    Swap2(datetime(2024, 1, 1), 12*3, 12, 12): -0.07,\n",
    "    Swap2(datetime(2027, 1, 1), 12*5, 12, 12): 0.76,\n",
    "    Swap2(datetime(2032, 1, 1), 12*20, 12, 12): 1.03,\n",
    "    Swap2(datetime(2052, 1, 1), 12*20, 12, 12): 0.59,\n",
    "}\n",
    "labels = [\"2Y\", \"2Y3Y\", \"5Y5Y\", \"10Y20Y\", \"30Y20Y\"]\n",
    "s_cv = SolvedCurve(nodes=nodes, interpolation=\"log_linear\", swaps=list(swaps.keys()), obj_rates=list(swaps.values()))\n",
    "s_cv.iterate() \n",
    "\n",
    "corr = np.array([\n",
    "    [1, 0.85, 0.81, 0.75, 0.71],\n",
    "    [0.85, 1, 0.87, 0.81, 0.81],\n",
    "    [0.81, 0.87, 1, 0.92, 0.89],\n",
    "    [0.75, 0.81, 0.92, 1, 0.96],\n",
    "    [0.71, 0.81, 0.89, 0.96, 1],\n",
    "])\n",
    "vol = np.array([15.1, 36.6, 58.6, 68.8, 67.3])\n",
    "Q = np.matmul(np.matmul(np.diag(vol), corr), np.diag(vol))\n",
    "mu = np.array([[0, -9.3, -20.4, 1.7, 1.4]]).T "
   ]
  },
  {
   "cell_type": "markdown",
   "id": "91d23df7-45bc-4c99-8da8-aa61ba3d6b5f",
   "metadata": {},
   "source": [
    "# First Order Roll/Vol Matrix"
   ]
  },
  {
   "cell_type": "code",
   "execution_count": null,
   "id": "da12e738-202f-434b-ae23-359fe0976e6b",
   "metadata": {},
   "outputs": [],
   "source": [
    "sharpe = np.empty((5,5))\n",
    "sharpe[:] = np.nan\n",
    "for i in range(4):\n",
    "    swap = list(swaps.keys())[i]\n",
    "    a = swap.analytic_delta(s_cv).real\n",
    "    swap.notional *= -10000 / a\n",
    "    \n",
    "    for j in range(i + 1, 5):\n",
    "        swap2 = list(swaps.keys())[j]\n",
    "        a = swap2.analytic_delta(s_cv).real\n",
    "        swap2.notional *= 10000 / a\n",
    "        \n",
    "        portfolio = Portfolio([swap, swap2])\n",
    "        sharpe[j,i] = portfolio.sharpe(s_cv, mu, Q, order=1)\n",
    "        sharpe[i,j] = -sharpe[j,i]\n",
    "    \n",
    "df1 = pd.DataFrame(sharpe[1:, 1:], index=labels[1:], columns=labels[1:])\n",
    "df1"
   ]
  },
  {
   "cell_type": "markdown",
   "id": "9fd0959e-6382-49fa-8405-5d00c7443011",
   "metadata": {},
   "source": [
    "# Second Order Roll/Vol Matrix"
   ]
  },
  {
   "cell_type": "code",
   "execution_count": null,
   "id": "95914fdc-9612-44fc-a8e9-0fe88070a2cd",
   "metadata": {},
   "outputs": [],
   "source": [
    "sharpe = np.empty((5,5))\n",
    "sharpe[:] = np.nan\n",
    "for i in range(4):\n",
    "    swap = list(swaps.keys())[i]\n",
    "    a = swap.analytic_delta(s_cv).real\n",
    "    swap.notional *= -10000 / a\n",
    "    \n",
    "    for j in range(i + 1, 5):\n",
    "        swap2 = list(swaps.keys())[j]\n",
    "        a = swap2.analytic_delta(s_cv).real\n",
    "        swap2.notional *= 10000 / a\n",
    "        \n",
    "        portfolio = Portfolio([swap, swap2])\n",
    "        sharpe[j,i] = portfolio.sharpe(s_cv, mu, Q, order=2)\n",
    "        sharpe[i,j] = -sharpe[j,i]\n",
    "    \n",
    "df2 = pd.DataFrame(sharpe[1:, 1:], index=labels[1:], columns=labels[1:])\n",
    "df2"
   ]
  },
  {
   "cell_type": "markdown",
   "id": "60a529e0-2c7e-48e0-bb0a-19f919e66694",
   "metadata": {},
   "source": [
    "# Effect of Gamma on Roll/Vol Matrix"
   ]
  },
  {
   "cell_type": "code",
   "execution_count": null,
   "id": "862c5578-2e84-4852-8288-561c2ed137e3",
   "metadata": {},
   "outputs": [],
   "source": [
    "df2 - df1"
   ]
  },
  {
   "cell_type": "markdown",
   "id": "57434e92-e2bb-4e3e-bc68-6e57e2a6d8ba",
   "metadata": {},
   "source": [
    "# Efficient Frontier and Trade Sampling"
   ]
  },
  {
   "cell_type": "code",
   "execution_count": null,
   "id": "11bc4c32-d582-4f7e-85de-eedc510e40d4",
   "metadata": {},
   "outputs": [],
   "source": [
    "N = 40000\n",
    "sample_risk = (np.random.rand(5, N) - 0.5)*2000\n",
    "sample_risk[0, :] = 0\n",
    "sample_risk[:, 0:3]  # display the first 3 samples"
   ]
  },
  {
   "cell_type": "markdown",
   "id": "ec81d4b1-b30f-4e81-8aea-b6efaba6b3bc",
   "metadata": {},
   "source": [
    "Use the simple formula to estimate G"
   ]
  },
  {
   "cell_type": "code",
   "execution_count": null,
   "id": "ca92d970-4353-4550-9176-8e6a8195c7ec",
   "metadata": {},
   "outputs": [],
   "source": [
    "estimator = np.diag([3, 8, 16, 41, 81]) * -1/10000\n",
    "_ = np.einsum('rn, rj -> rjn', sample_risk, np.eye(5))\n",
    "sample_gamma = np.einsum('ijn, ij -> ijn', _, estimator)\n",
    "sample_gamma[:,:,0]  # display estmated gamma for the first sample"
   ]
  },
  {
   "cell_type": "code",
   "execution_count": null,
   "id": "fc934250-0c34-44e1-868e-5d4a2ae3ef8d",
   "metadata": {},
   "outputs": [],
   "source": [
    "pf = Portfolio()"
   ]
  },
  {
   "cell_type": "code",
   "execution_count": null,
   "id": "e866b846-b745-45ec-9aae-47220bf797f0",
   "metadata": {},
   "outputs": [],
   "source": [
    "pnl1 = [pf.exp_pnl(None, mu, Q, order=1, S=sample_risk[:,i], G=sample_gamma[:,:,i]) for i in range(N)]\n",
    "var1 = [pf.var_pnl(None, mu, Q, order=1, S=sample_risk[:,i], G=sample_gamma[:,:,i]) for i in range(N)]\n",
    "vol1 = [v ** 0.5 for v in var1]\n",
    "pnl2 = [pf.exp_pnl(None, mu, Q, order=2, S=sample_risk[:,i], G=sample_gamma[:,:,i]) for i in range(N)]\n",
    "var2 = [pf.var_pnl(None, mu, Q, order=2, S=sample_risk[:,i][:, np.newaxis], G=sample_gamma[:,:,i]) for i in range(N)]\n",
    "vol2 = [v ** 0.5 for v in var2]\n",
    "\n",
    "baseline_risk = np.array([[0,1,0,0,0], [0,0,1,0,0], [0,0,0,1,0], [0,0,0,0,1]]).T * -1000\n",
    "_ = np.einsum('rn, rj -> rjn', baseline_risk, np.eye(5))\n",
    "baseline_gamma = np.einsum('ijn, ij -> ijn', _, estimator)\n",
    "pnl_base = [pf.exp_pnl(None, mu, Q, order=2, S=baseline_risk[:,i][:, np.newaxis], G=baseline_gamma[:,:,i]) for i in range(4)]\n",
    "var_base = [pf.var_pnl(None, mu, Q, order=2, S=baseline_risk[:,i][:, np.newaxis], G=baseline_gamma[:,:,i]) for i in range(4)]\n",
    "vol_base = [v ** 0.5 for v in var_base]"
   ]
  },
  {
   "cell_type": "code",
   "execution_count": null,
   "id": "7f60cb80-a7b6-44ab-b71d-97f96927ba8d",
   "metadata": {},
   "outputs": [],
   "source": [
    "sharpe = np.array([pnl2[i] / vol2[i] for i in range(N)])\n",
    "best = np.argmax(sharpe)\n",
    "\n",
    "import matplotlib.pyplot as plt\n",
    "fig, ax = plt.subplots(1,1)\n",
    "# ax.scatter(vol1, pnl1, s=0.2, c=\"g\")\n",
    "ax.scatter(vol2, pnl2, s=0.2)\n",
    "ax.scatter(vol_base, pnl_base, s=100.0, marker=\"s\")\n",
    "ax.scatter(vol2[best], pnl2[best], s=200, marker=\"*\", c=\"r\")\n",
    "ax.set_xlim(0,1e5)\n",
    "ax.set_ylim(-35000,35000)\n",
    "plt.show()"
   ]
  },
  {
   "cell_type": "markdown",
   "id": "30b73fe0-df9f-4559-9d63-a3520dc2fee7",
   "metadata": {},
   "source": [
    "Best risk position assuming roll down as the expected market move is,"
   ]
  },
  {
   "cell_type": "code",
   "execution_count": null,
   "id": "b2616617-ddf6-4088-ac84-93325bc9c9f1",
   "metadata": {},
   "outputs": [],
   "source": [
    "pd.DataFrame(sample_risk[:, best], index=labels).style.format(\"{:,.0f}\").applymap(lambda v: \"color: red\" if v < 0 else \"\")"
   ]
  },
  {
   "cell_type": "markdown",
   "id": "801ca05b-efd6-41a1-b2ee-864b3710a94a",
   "metadata": {},
   "source": [
    "The Sharpe ratio of this trade is:"
   ]
  },
  {
   "cell_type": "code",
   "execution_count": null,
   "id": "562ece27-777a-41af-bde7-c64b77ebf1c4",
   "metadata": {},
   "outputs": [],
   "source": [
    "pf.sharpe(None, mu, Q, order=1, S=sample_risk[:,best][:, np.newaxis], G= sample_gamma[:,:,best])"
   ]
  }
 ],
 "metadata": {
  "kernelspec": {
   "display_name": "Python 3 (ipykernel)",
   "language": "python",
   "name": "python3"
  },
  "language_info": {
   "codemirror_mode": {
    "name": "ipython",
    "version": 3
   },
   "file_extension": ".py",
   "mimetype": "text/x-python",
   "name": "python",
   "nbconvert_exporter": "python",
   "pygments_lexer": "ipython3",
   "version": "3.9.5"
  }
 },
 "nbformat": 4,
 "nbformat_minor": 5
}
