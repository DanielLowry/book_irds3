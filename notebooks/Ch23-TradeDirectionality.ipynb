{
 "cells": [
  {
   "cell_type": "code",
   "execution_count": null,
   "id": "70823b56-b69f-46cb-b15d-6a1b729372a0",
   "metadata": {},
   "outputs": [],
   "source": [
    "import module_loader\n",
    "import pandas as pd\n",
    "from bookirds.curves import *\n",
    "from bookirds.dual import Dual"
   ]
  },
  {
   "cell_type": "markdown",
   "id": "26516857-1830-4335-a318-067c06409a8f",
   "metadata": {},
   "source": [
    "# Trade Directionality Hedging\n",
    "\n",
    "### Add a short historical data sample for covariance"
   ]
  },
  {
   "cell_type": "code",
   "execution_count": null,
   "id": "0f361921-60ed-4126-8212-9b1534ddde0d",
   "metadata": {},
   "outputs": [],
   "source": [
    "portfolio = Portfolio()\n",
    "historical_rates = pd.DataFrame({\n",
    "    \"2Y\": [1.199, 1.228, 1.210, 1.215, 1.203, 1.159, 1.175, 1.188, 1.159, 1.100],\n",
    "    \"5Y\": [1.663, 1.696, 1.665, 1.680, 1.677, 1.657, 1.673, 1.676, 1.653, 1.600],\n",
    "    \"10Y\": [1.928, 1.945, 1.934, 1.93, 1.934, 1.931, 1.958, 1.972, 1.932, 1.900],\n",
    "    \"30Y\": [2.201, 2.217, 2.228, 2.239, 2.226, 2.235, 2.242, 2.236, 2.22, 2.200],\n",
    "})\n",
    "historical_chgs = historical_rates.diff(-1)*100\n",
    "Q = historical_chgs.cov().to_numpy()\n",
    "Q"
   ]
  },
  {
   "cell_type": "markdown",
   "id": "1cba6a52-6a3e-4290-a682-0251d062c41a",
   "metadata": {},
   "source": [
    "### PCA Approach"
   ]
  },
  {
   "cell_type": "code",
   "execution_count": null,
   "id": "2d0ad420-0f31-4a62-b593-e576cc7c51c5",
   "metadata": {},
   "outputs": [],
   "source": [
    "lambd, E = portfolio.pca(Q)\n",
    "S_ini = np.array([-1, 2.0, -1, 0])[:, np.newaxis]\n",
    "portfolio.pca_hedge_adjustment(None, Q, S_ini)"
   ]
  },
  {
   "cell_type": "markdown",
   "id": "7577993b-cede-47cd-87c7-62ba4c2c4727",
   "metadata": {},
   "source": [
    "The problem with the above minimal adjustment is that it includes a 30Y bucket even though 30Y was not considered in the original trade. We can explicitly set that bucket to be zero in our directionality adjustment."
   ]
  },
  {
   "cell_type": "code",
   "execution_count": null,
   "id": "5bc6a608-4e34-4ae8-ac96-7388cfa6f1c9",
   "metadata": {},
   "outputs": [],
   "source": [
    "x = portfolio.pca_hedge_adjustment(None, Q, S_ini, L=[3])\n",
    "x"
   ]
  },
  {
   "cell_type": "code",
   "execution_count": null,
   "id": "f39598b8-c21e-43c7-9ec8-d653bfef8fd4",
   "metadata": {},
   "outputs": [],
   "source": [
    "S = (S_ini + x)\n",
    "S"
   ]
  },
  {
   "cell_type": "code",
   "execution_count": null,
   "id": "4f697856-7bcf-4dcc-a74d-3a780ee30f44",
   "metadata": {},
   "outputs": [],
   "source": [
    "delta_r = np.array([17.2, 18.1, 12.5, 8.1])[:, np.newaxis]\n",
    "print(\"PnL: \", np.matmul(S.T, delta_r))"
   ]
  },
  {
   "cell_type": "markdown",
   "id": "5917c9e3-6a95-40f8-bbeb-75a67103f9df",
   "metadata": {},
   "source": [
    "Below we can calculate the non centralised PC multipliers and explain the PnL from PCA risks and multipliers. The PnL value is invariant."
   ]
  },
  {
   "cell_type": "code",
   "execution_count": null,
   "id": "7b85eff3-b59d-432f-a293-3d9f85912f10",
   "metadata": {},
   "outputs": [],
   "source": [
    "non_cent_multipliers = np.matmul(delta_r.T, E).T\n",
    "pca_risk = np.matmul(E.T, S)\n",
    "print(non_cent_multipliers, \"\\n\", pca_risk)"
   ]
  },
  {
   "cell_type": "code",
   "execution_count": null,
   "id": "2c3ecf57-138e-4aa6-b2d4-84c4c4565a0b",
   "metadata": {},
   "outputs": [],
   "source": [
    "print(\"PnL from PCA: \", np.matmul(pca_risk.T, non_cent_multipliers))"
   ]
  },
  {
   "cell_type": "markdown",
   "id": "22ba2c27-186f-424b-b13d-bd7d87cb0712",
   "metadata": {},
   "source": [
    "Since the risk to PC1 is zero we can determine the residuals if we exclude every PC except the first"
   ]
  },
  {
   "cell_type": "code",
   "execution_count": null,
   "id": "0bc003e6-1aab-4b1e-8512-2c5374a0b686",
   "metadata": {},
   "outputs": [],
   "source": [
    "nc_multiplier_neg = non_cent_multipliers.copy()\n",
    "nc_multiplier_neg[1,0] = 0\n",
    "nc_multiplier_neg[2,0] = 0\n",
    "nc_multiplier_neg[3,0] = 0"
   ]
  },
  {
   "cell_type": "code",
   "execution_count": null,
   "id": "4c35d9e6-bdec-4258-86c8-23ef444d4490",
   "metadata": {},
   "outputs": [],
   "source": [
    "delta_r_adj = np.matmul(E, nc_multiplier_neg)\n",
    "delta_r_adj"
   ]
  },
  {
   "cell_type": "code",
   "execution_count": null,
   "id": "60114d31-cc9f-4105-84eb-99584a642f8c",
   "metadata": {},
   "outputs": [],
   "source": [
    "residuals = delta_r - delta_r_adj\n",
    "residuals"
   ]
  },
  {
   "cell_type": "markdown",
   "id": "44f1fabd-c6cb-4f23-a7db-311cd6e92ebf",
   "metadata": {},
   "source": [
    "The PnL from residuals is invariant since PC1 risk was explcitly set to be zero."
   ]
  },
  {
   "cell_type": "code",
   "execution_count": null,
   "id": "9cd1ccc2-213f-489d-b86c-ad3c2a515e12",
   "metadata": {},
   "outputs": [],
   "source": [
    "print(\"PnL from residuals: \", np.matmul(S.T, residuals))"
   ]
  },
  {
   "cell_type": "markdown",
   "id": "1040e33d-c1d1-49e0-a9c6-1b841f3d43c5",
   "metadata": {},
   "source": [
    "### CoVaR Minimisation Approach"
   ]
  },
  {
   "cell_type": "code",
   "execution_count": null,
   "id": "d9c9220a-0a35-45e7-be6d-e351610570fc",
   "metadata": {},
   "outputs": [],
   "source": [
    "S_ini1 = np.array([-1, 2, -1.0, 0])[:, np.newaxis]\n",
    "S_ini2 = np.array([-1, 2, -1.0, 0])[:, np.newaxis]"
   ]
  },
  {
   "cell_type": "code",
   "execution_count": null,
   "id": "4f2a497b-f5c7-49ec-98d2-461149d713df",
   "metadata": {},
   "outputs": [],
   "source": [
    "x1 = portfolio.covar_mmt(None, Q, [1], S_ini1)\n",
    "x2 = portfolio.covar_mmt(None, Q, [0,2], S_ini2)"
   ]
  },
  {
   "cell_type": "code",
   "execution_count": null,
   "id": "cd4b9ae0-633f-4729-8509-d9eb7fde807d",
   "metadata": {},
   "outputs": [],
   "source": [
    "S1 = (S_ini1 + x1) \n",
    "S1 * 1.9394 / S1[1,0]"
   ]
  },
  {
   "cell_type": "code",
   "execution_count": null,
   "id": "6d8d96b9-c6a9-45f7-88dc-87a57c24e59d",
   "metadata": {},
   "outputs": [],
   "source": [
    "S2 = (S_ini2 + x2)\n",
    "S2 * 1.9394 / S2[1,0]"
   ]
  },
  {
   "cell_type": "markdown",
   "id": "761dd4f6-045c-406f-ac70-f5d0bafe5a8b",
   "metadata": {},
   "source": [
    "### Multivariate Least Squares Regression"
   ]
  },
  {
   "cell_type": "code",
   "execution_count": null,
   "id": "c51b1b52-31a8-424c-8ba5-0426fe5fff4c",
   "metadata": {},
   "outputs": [],
   "source": [
    "delta_r = historical_chgs.iloc[:9,:].to_numpy()\n",
    "delta_r = delta_r - delta_r.mean(axis=0)\n",
    "delta_r"
   ]
  },
  {
   "cell_type": "markdown",
   "id": "654a1683-a1e4-48fe-a7c1-8841292a4278",
   "metadata": {},
   "source": [
    "Assume a 2s5s10s trade hedged for 5Y only"
   ]
  },
  {
   "cell_type": "code",
   "execution_count": null,
   "id": "0caed6b0-df23-4302-a886-5a263341f6b4",
   "metadata": {},
   "outputs": [],
   "source": [
    "S_ini = np.array([-1, 2.0, -1, 0])[:, np.newaxis]\n",
    "y = np.matmul(delta_r, S_ini)\n",
    "x_1 = np.array([0, 1.0, 0, 0])[:, np.newaxis]\n",
    "X = np.matmul(delta_r, x_1)"
   ]
  },
  {
   "cell_type": "code",
   "execution_count": null,
   "id": "caf2e7ba-2060-46fa-b2d7-cbe50f3db9f6",
   "metadata": {},
   "outputs": [],
   "source": [
    "beta = np.matmul(1/np.matmul(X.T, X), np.matmul(X.T, y))"
   ]
  },
  {
   "cell_type": "code",
   "execution_count": null,
   "id": "b8a0bacd-1435-4b41-b856-44ddcff85316",
   "metadata": {},
   "outputs": [],
   "source": [
    "S_trade = -np.matmul(x_1, beta)\n",
    "S_trade"
   ]
  },
  {
   "cell_type": "code",
   "execution_count": null,
   "id": "8ee27448-38c9-4922-984a-09f3ef4e49b3",
   "metadata": {},
   "outputs": [],
   "source": [
    "S = S_ini + S_trade\n",
    "S * 1.9394 / S[1,0]"
   ]
  },
  {
   "cell_type": "markdown",
   "id": "a53ef1ab-c980-47bd-ba81-78fb6b42e5e0",
   "metadata": {},
   "source": [
    "This result is the same as the CoVaR minimisation against the single 5Y instrument"
   ]
  },
  {
   "cell_type": "markdown",
   "id": "3316438e-3a18-4b2e-b71f-a1fc7a45ef47",
   "metadata": {},
   "source": [
    "Now assume a hedge to 2y and 10y."
   ]
  },
  {
   "cell_type": "code",
   "execution_count": null,
   "id": "312b224f-f54e-4308-9a53-bffb82d8ce38",
   "metadata": {},
   "outputs": [],
   "source": [
    "x_j = np.array([\n",
    "    [1.0, 0],\n",
    "    [0, 0],\n",
    "    [0, 1.0],\n",
    "    [0, 0]\n",
    "])\n",
    "X = np.matmul(delta_r, x_j)\n",
    "beta = np.linalg.solve(np.matmul(X.T, X), np.matmul(X.T, y))\n",
    "S_trade = - np.matmul(x_j, beta)\n",
    "S = S_ini + S_trade\n",
    "S * 1.9394 / S[1,0]"
   ]
  },
  {
   "cell_type": "markdown",
   "id": "ee8b3b20-92ce-4989-8e17-bf2e19203c5f",
   "metadata": {},
   "source": [
    "This result is the same as the multi-instrument VaR minimisation strategy measured over 2Y and 10Y."
   ]
  },
  {
   "cell_type": "markdown",
   "id": "cf57e2e3-b86a-4286-83d5-02718da396b8",
   "metadata": {},
   "source": [
    "Now we will try to hedge against the first PC"
   ]
  },
  {
   "cell_type": "code",
   "execution_count": null,
   "id": "0871bb75-eaa4-4286-9022-6041916b6e9e",
   "metadata": {},
   "outputs": [],
   "source": [
    "x_1 = E[:, [0]]\n",
    "x_1[3, 0] = 0\n",
    "X = np.matmul(delta_r, x_1)\n",
    "beta = np.linalg.solve(np.matmul(X.T, X), np.matmul(X.T, y))\n",
    "S_trade = - np.matmul(x_1, beta)\n",
    "S = S_ini + S_trade\n",
    "S\n",
    "# S * 1.93941304 / S[1,0]"
   ]
  },
  {
   "cell_type": "code",
   "execution_count": null,
   "id": "37d00caa-c627-409c-b27d-5951015746aa",
   "metadata": {},
   "outputs": [],
   "source": [
    "pca_risk = np.matmul(E.T, S)\n",
    "pca_risk"
   ]
  },
  {
   "cell_type": "markdown",
   "id": "f34067f8-ebcc-4851-a92b-0c4fdc9a5261",
   "metadata": {},
   "source": [
    "This result is very close to the PCA minimisation approach and we see above that risk to PC1 is essentially fully hedged."
   ]
  }
 ],
 "metadata": {
  "kernelspec": {
   "display_name": "Python 3 (ipykernel)",
   "language": "python",
   "name": "python3"
  },
  "language_info": {
   "codemirror_mode": {
    "name": "ipython",
    "version": 3
   },
   "file_extension": ".py",
   "mimetype": "text/x-python",
   "name": "python",
   "nbconvert_exporter": "python",
   "pygments_lexer": "ipython3",
   "version": "3.9.5"
  }
 },
 "nbformat": 4,
 "nbformat_minor": 5
}
