{
 "cells": [
  {
   "cell_type": "code",
   "execution_count": null,
   "id": "bc3c3708-168c-4a96-b53d-b12873747c0a",
   "metadata": {},
   "outputs": [],
   "source": [
    "import module_loader\n",
    "import pandas as pd\n",
    "from modules.curves import *\n",
    "from modules.dual import Dual"
   ]
  },
  {
   "cell_type": "markdown",
   "id": "02819b91-f949-41e5-8e19-738dc88d3e5c",
   "metadata": {},
   "source": [
    "# Covariance Variance VaR Methods\n",
    "\n",
    "### Build a simple curve for risking and pricing"
   ]
  },
  {
   "cell_type": "code",
   "execution_count": null,
   "id": "71e3b2c8-d762-4b02-9cf4-7ca8a45d087e",
   "metadata": {},
   "outputs": [],
   "source": [
    "nodes = {\n",
    "    datetime(2022, 1, 1): Dual(1, {\"v0\": 1}),\n",
    "    datetime(2024, 1, 1): Dual(1, {\"v1\": 1}),\n",
    "    datetime(2027, 1, 1): Dual(1, {\"v2\": 1}),\n",
    "    datetime(2032, 1, 1): Dual(1, {\"v3\": 1}),\n",
    "    datetime(2052, 1, 1): Dual(1, {\"v4\": 1}),\n",
    "}\n",
    "swaps = {\n",
    "    Swap(datetime(2022, 1, 1), 12*2, 12, 12): 1.20,\n",
    "    Swap(datetime(2022, 1, 1), 12*5, 12, 12): 1.66,\n",
    "    Swap(datetime(2022, 1, 1), 12*10, 12, 12): 1.93,\n",
    "    Swap(datetime(2022, 1, 1), 12*30, 12, 12): 2.20,\n",
    "}\n",
    "s_cv = SolvedCurve(nodes=nodes, interpolation=\"log_linear\", swaps=list(swaps.keys()), obj_rates=list(swaps.values()))\n",
    "s_cv.iterate()  "
   ]
  },
  {
   "cell_type": "markdown",
   "id": "7cbccf8b-582e-43d6-93b5-1263c4c54759",
   "metadata": {},
   "source": [
    "### Add a short historical data sample for covariance"
   ]
  },
  {
   "cell_type": "code",
   "execution_count": null,
   "id": "bdd13748-347e-4e36-969b-cb67991d5148",
   "metadata": {},
   "outputs": [],
   "source": [
    "historical_rates = pd.DataFrame({\n",
    "    \"2Y\": [1.199, 1.228, 1.210, 1.215, 1.203, 1.159, 1.175, 1.188, 1.159, 1.100],\n",
    "    \"5Y\": [1.663, 1.696, 1.665, 1.680, 1.677, 1.657, 1.673, 1.676, 1.653, 1.600],\n",
    "    \"10Y\": [1.928, 1.945, 1.934, 1.93, 1.934, 1.931, 1.958, 1.972, 1.932, 1.900],\n",
    "    \"30Y\": [2.201, 2.217, 2.228, 2.239, 2.226, 2.235, 2.242, 2.236, 2.22, 2.200],\n",
    "})\n",
    "historical_chgs = historical_rates.diff(-1)*100\n",
    "historical_chgs.style.format(\"{:,.1f}\")"
   ]
  },
  {
   "cell_type": "code",
   "execution_count": null,
   "id": "02a82081-9d81-46c5-a8f6-d0ac00efd811",
   "metadata": {},
   "outputs": [],
   "source": [
    "Q = historical_chgs.cov().to_numpy()\n",
    "Q"
   ]
  },
  {
   "cell_type": "markdown",
   "id": "90652854-18c6-43cd-8aad-4dcbb733a80e",
   "metadata": {},
   "source": [
    "### Create a portfolio of swaps replicating the risks in the text"
   ]
  },
  {
   "cell_type": "code",
   "execution_count": null,
   "id": "ddf450c0-a5ca-4a2c-9e99-a62b537bc797",
   "metadata": {},
   "outputs": [],
   "source": [
    "# target = [-10000, 2500, 10000, -4000]\n",
    "# for i, swap in enumerate(swaps.keys()):\n",
    "#     swap.notional = (target[i] / swap.analytic_delta(s_cv) * 1e6).real\n",
    "    \n",
    "notional = [-50.9e6, 5.23e6, 11.0e6, -1.81e6]\n",
    "for i, swap in enumerate(swaps.keys()):\n",
    "    swap.notional = notional[i]"
   ]
  },
  {
   "cell_type": "code",
   "execution_count": null,
   "id": "4e5d0505-e0f0-438b-8a08-2dfc7be4ffd4",
   "metadata": {},
   "outputs": [],
   "source": [
    "portfolio = Portfolio(objects=list(swaps.keys()))"
   ]
  },
  {
   "cell_type": "markdown",
   "id": "839ce4bd-bda4-4f7b-8cc2-6e22ca84ce5f",
   "metadata": {},
   "source": [
    "### Utilise all the CoVaR methods displaying results in table"
   ]
  },
  {
   "cell_type": "code",
   "execution_count": null,
   "id": "e8a2f3fd-6ccf-472b-ac6f-bd4feef365de",
   "metadata": {},
   "outputs": [],
   "source": [
    "df = pd.DataFrame(\n",
    "    index=[\"2Y\", \"5Y\", \"10Y\", \"30Y\"],\n",
    "    data={\n",
    "        \"S\": portfolio.risk(s_cv)[:, 0],\n",
    "        \"S_trade\": portfolio.covar_smt(s_cv, Q)[:, 0],\n",
    "        \"c_impact\": portfolio.covar_smt_impact(s_cv, Q)[:, 0],\n",
    "        \"%\": portfolio.covar_smt_impact(s_cv, Q)[:, 0] / portfolio.covar(s_cv, Q) * 100,\n",
    "        \"VaR alloc\": portfolio.covar_alloc(s_cv, Q)[:, 0]\n",
    "    }\n",
    ")\n",
    "df.style.format(\"{:,.0f}\")"
   ]
  },
  {
   "cell_type": "code",
   "execution_count": null,
   "id": "bc2f6fb0-10bd-4c31-9552-d9756fa1c47e",
   "metadata": {},
   "outputs": [],
   "source": [
    "print(\"Total VaR multiplier: \", portfolio.covar(s_cv, Q))"
   ]
  },
  {
   "cell_type": "markdown",
   "id": "1fe54b99-6d1b-4238-9b5f-4109b3b51be3",
   "metadata": {},
   "source": [
    "### Demonstrate the Multi-Instrument CoVaR methods"
   ]
  },
  {
   "cell_type": "code",
   "execution_count": null,
   "id": "7770efc0-ef8c-4dc7-94a2-569ffa75196a",
   "metadata": {},
   "outputs": [],
   "source": [
    "combinations = [(0,1), (0,2), (0,3), (1,2), (1,3), (2,3)]\n",
    "df_mmt = pd.DataFrame(index=[\"2Y\", \"5Y\", \"10Y\", \"30Y\", \"impact\"])\n",
    "for combo in combinations:\n",
    "    df_mmt.loc[[\"2Y\", \"5Y\", \"10Y\", \"30Y\"], f\"{combo}\"] = portfolio.covar_mmt(s_cv, Q, list(combo))[:, 0]\n",
    "    df_mmt.loc[\"impact\", f\"{combo}\"] = portfolio.covar_mmt_impact(s_cv, Q, list(combo))\n",
    "    \n",
    "df_mmt.style.format(\"{:,.0f}\")"
   ]
  },
  {
   "cell_type": "markdown",
   "id": "275b1873-5555-44b1-8b10-7dc148c7b966",
   "metadata": {},
   "source": [
    "The specific example of the 2Y and 10Y combination is exemplified in the text."
   ]
  }
 ],
 "metadata": {
  "kernelspec": {
   "display_name": "Python 3 (ipykernel)",
   "language": "python",
   "name": "python3"
  },
  "language_info": {
   "codemirror_mode": {
    "name": "ipython",
    "version": 3
   },
   "file_extension": ".py",
   "mimetype": "text/x-python",
   "name": "python",
   "nbconvert_exporter": "python",
   "pygments_lexer": "ipython3",
   "version": "3.9.5"
  }
 },
 "nbformat": 4,
 "nbformat_minor": 5
}
