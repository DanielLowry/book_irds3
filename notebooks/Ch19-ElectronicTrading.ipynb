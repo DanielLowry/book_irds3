{
 "cells": [
  {
   "cell_type": "code",
   "execution_count": null,
   "id": "f03f3308-3878-4fb1-8976-99a280dcf4f8",
   "metadata": {},
   "outputs": [],
   "source": [
    "import module_loader\n",
    "import pandas as pd\n",
    "from bookirds.curves import *\n",
    "from bookirds.dual import Dual"
   ]
  },
  {
   "cell_type": "markdown",
   "id": "4fb6b866-ad1c-471b-b359-6b82f4ac535f",
   "metadata": {},
   "source": [
    "### Pricing curve is assumed accurate\n",
    "\n",
    "This curve only has the four instruments 2Y, 5Y, 10Y, 30Y, as per the text."
   ]
  },
  {
   "cell_type": "code",
   "execution_count": null,
   "id": "009d4605-2598-43cf-be89-0b425b63f5e5",
   "metadata": {},
   "outputs": [],
   "source": [
    "nodes = {\n",
    "    datetime(2022, 1, 1): Dual(1, {\"v0\": 1}),\n",
    "    datetime(2024, 1, 1): Dual(1, {\"v1\": 1}),\n",
    "    datetime(2027, 1, 1): Dual(1, {\"v2\": 1}),\n",
    "    datetime(2032, 1, 1): Dual(1, {\"v3\": 1}),\n",
    "    datetime(2052, 1, 1): Dual(1, {\"v4\": 1})\n",
    "}\n",
    "swaps = {\n",
    "    Swap(datetime(2022, 1, 1), 12*2, 12, 12): 1.635,\n",
    "    Swap(datetime(2022, 1, 1), 12*5, 12, 12): 1.885,\n",
    "    Swap(datetime(2022, 1, 1), 12*10, 12, 12): 1.930,\n",
    "    Swap(datetime(2022, 1, 1), 12*30, 12, 12): 1.980,\n",
    "}\n",
    "s_cv = SolvedCurve(\n",
    "    nodes=nodes,\n",
    "    swaps=list(swaps.keys()),\n",
    "    obj_rates=list(swaps.values()),\n",
    "    interpolation=\"log_linear\",\n",
    "    algorithm=\"levenberg_marquardt\"\n",
    ")\n",
    "print(s_cv.iterate())"
   ]
  },
  {
   "cell_type": "markdown",
   "id": "1d011888-0434-4329-b549-79020a057cb5",
   "metadata": {},
   "source": [
    "### Equivalent portfolios\n",
    "\n",
    "Suppose we construct three portfolios, each with either;\n",
    "\n",
    "  - A single 5Y5Y swap,\n",
    "  - A 5Y swap and a 10Y swap,\n",
    "  - A 5s10s swap spread and a 10Y swap,\n",
    "\n",
    "These portfolios are **equivalent** since their cashflows are identical.\n"
   ]
  },
  {
   "cell_type": "code",
   "execution_count": null,
   "id": "cd092194-aa8b-48bf-91e9-f4b6e7625038",
   "metadata": {},
   "outputs": [],
   "source": [
    "portfolio1 = Portfolio([\n",
    "    Swap(datetime(2027,1,1), 12*5, 12, 12, fixed_rate=1.9797, notional=-100e6)\n",
    "])\n",
    "portfolio2 = Portfolio([\n",
    "    Swap(datetime(2022,1,1), 12*5, 12, 12, fixed_rate=1.9797, notional=100e6),\n",
    "    Swap(datetime(2022,1,1), 12*10, 12, 12, fixed_rate=1.9797, notional=-100e6)\n",
    "])\n",
    "portfolio3 = Portfolio([\n",
    "    Swap(datetime(2022,1,1), 12*5, 12, 12, fixed_rate=1.9797, notional=100e6),\n",
    "    Swap(datetime(2022,1,1), 12*10, 12, 12, fixed_rate=1.9797, notional=-50e6),\n",
    "    Swap(datetime(2022,1,1), 12*10, 12, 12, fixed_rate=1.9797, notional=-50e6)\n",
    "])\n",
    "\n",
    "df = pd.DataFrame({\n",
    "    \"pf1\": portfolio1.risk(s_cv)[:,0],\n",
    "    \"pf2\": portfolio2.risk(s_cv)[:,0],\n",
    "    \"pf3\": portfolio3.risk(s_cv)[:,0],\n",
    "}, index=[\"2y\", \"5y\", \"10y\", \"30y\"])\n",
    "df.style.format(\"{:,.0f}\")"
   ]
  },
  {
   "cell_type": "markdown",
   "id": "357ed670-064f-48a6-8005-ea9db3839b26",
   "metadata": {},
   "source": [
    "### Parametrised instruments\n",
    "\n",
    "Next we use the prices and the insruments as parametrised in the text."
   ]
  },
  {
   "cell_type": "code",
   "execution_count": null,
   "id": "c115f638-bfb5-4566-a810-ad9562166211",
   "metadata": {},
   "outputs": [],
   "source": [
    "df = pd.DataFrame({\n",
    "    \"2Y\": [1, 0, 0, 0, -1, -1, -1, 0, 0, 0, -1, 0],\n",
    "    \"5Y\": [0, 1, 0, 0, 1, 0, 0, -1, -1, 0, 2, -1],\n",
    "    \"10Y\": [0, 0, 1, 0, 0, 1, 0, 1, 0, -1, -1, 2],\n",
    "    \"30Y\": [0, 0, 0, 1, 0, 0, 1, 0, 1, 1, 0, -1],\n",
    "    \"margin\": [0.4, 0.5, 0.5, 0.6, 0.25, 0.45, 0.85, 0.25, 0.7, 0.55, 0.5, 0.6],\n",
    "}, index=[\"2Y\", \"5Y\", \"10Y\", \"30Y\", \"2s5s\", \"2s10s\", \"2s30s\", \"5s10s\", \"5s30s\", \"10s30s\", \"2s5s10s\", \"5s10s30s\"])\n",
    "df.style"
   ]
  },
  {
   "cell_type": "code",
   "execution_count": null,
   "id": "5dcfdbc2-861d-42f7-b28b-72628cca044f",
   "metadata": {},
   "outputs": [],
   "source": [
    "c = df[\"margin\"].to_numpy()[:, np.newaxis]\n",
    "A = df[[\"2Y\", \"5Y\", \"10Y\", \"30Y\"]].to_numpy().T\n",
    "S = portfolio1.risk(s_cv)\n",
    "ret = portfolio1.model_margin(c, A, portfolio1.risk(s_cv))"
   ]
  },
  {
   "cell_type": "code",
   "execution_count": null,
   "id": "6b406410-6d98-4054-a698-0778860e985e",
   "metadata": {},
   "outputs": [],
   "source": [
    "df[\"x\"], x = ret[1], ret[1][:, np.newaxis]\n",
    "df.style.format(\"{:,.1f}\")"
   ]
  },
  {
   "cell_type": "markdown",
   "id": "3d97e593-4cbb-49ba-a265-bbe056a471f0",
   "metadata": {},
   "source": [
    "The solution to this linear program is the above 'x' column and the calculated margin for these instruments is, below, which equates to a margin, from mid, of 0.78bps on the delta of the underlying 5Y5Y IRS."
   ]
  },
  {
   "cell_type": "code",
   "execution_count": null,
   "id": "9a04fed6-14e1-4813-b163-f9af2f38340d",
   "metadata": {},
   "outputs": [],
   "source": [
    "ret[0]"
   ]
  },
  {
   "cell_type": "markdown",
   "id": "4f174c8a-cec3-4ecf-b829-63c9b54159b8",
   "metadata": {},
   "source": [
    "### Volume\n",
    "\n",
    "To account for the fact that our model is volume agnostic we will assume an additional hedge cost of:\n",
    "\n",
    "$$ \\frac{2}{3000} * \\sqrt{x_i} * x_i $$"
   ]
  },
  {
   "cell_type": "code",
   "execution_count": null,
   "id": "259713ea-f9bf-43c7-8e28-e8c80dffc963",
   "metadata": {},
   "outputs": [],
   "source": [
    "df[\"basic margin\"] = df[\"margin\"] * np.abs(df[\"x\"])\n",
    "df[\"volume add on\"] = 2/3000 * np.abs(df[\"x\"])**1.5\n",
    "df.style.format(\"{:,.1f}\")"
   ]
  },
  {
   "cell_type": "markdown",
   "id": "cb9e7203-a070-40e5-a0b1-9ed3b4b5c3f6",
   "metadata": {},
   "source": [
    "### Correlation of identified market hedges\n",
    "\n",
    "The hedges that our model has identified will be assessed to see if they are correlated and if we need to charge extra."
   ]
  },
  {
   "cell_type": "code",
   "execution_count": null,
   "id": "ca2df3e6-df94-4c12-b248-281ff575da29",
   "metadata": {},
   "outputs": [],
   "source": [
    "historical_rates = pd.DataFrame({\n",
    "    \"2Y\": [1.199, 1.228, 1.210, 1.215, 1.203, 1.159, 1.175, 1.188, 1.159, 1.100],\n",
    "    \"5Y\": [1.663, 1.696, 1.665, 1.680, 1.677, 1.657, 1.673, 1.676, 1.653, 1.600],\n",
    "    \"10Y\": [1.928, 1.945, 1.934, 1.93, 1.934, 1.931, 1.958, 1.972, 1.932, 1.900],\n",
    "    \"30Y\": [2.201, 2.217, 2.228, 2.239, 2.226, 2.235, 2.242, 2.236, 2.22, 2.200],\n",
    "})\n",
    "historical_chgs = historical_rates.diff(-1)*100\n",
    "historical_chgs.style.format(\"{:,.1f}\")\n",
    "Q = historical_chgs.cov().to_numpy()\n",
    "Q"
   ]
  },
  {
   "cell_type": "code",
   "execution_count": null,
   "id": "8c88a62a-fb62-4771-9d97-95226adcc755",
   "metadata": {},
   "outputs": [],
   "source": [
    "Q_model = np.matmul(np.matmul(A.T, Q), A)\n",
    "df2 = pd.DataFrame(Q_model, index=df.index, columns=df.index)\n",
    "df2.style.format(\"{:,.2f}\")"
   ]
  },
  {
   "cell_type": "markdown",
   "id": "5ddf2372-e726-441f-a360-1c3fd2ddd0c7",
   "metadata": {},
   "source": [
    "#### CoVaR Multiplier\n",
    "The covar multiplier for the trade is:"
   ]
  },
  {
   "cell_type": "code",
   "execution_count": null,
   "id": "a2603da6-95d6-4323-8899-481e55007a2e",
   "metadata": {},
   "outputs": [],
   "source": [
    "covar = np.matmul(np.matmul(x.T, Q_model), x)[0][0] ** 0.5\n",
    "covar"
   ]
  },
  {
   "cell_type": "code",
   "execution_count": null,
   "id": "ebbe8cca-0d57-4c3d-8267-3b4901b52659",
   "metadata": {},
   "outputs": [],
   "source": [
    "covar_zerocorr = np.matmul(np.matmul(x.T, np.diag(np.diagonal(Q_model))), x)[0][0] ** 0.5\n",
    "covar_zerocorr"
   ]
  },
  {
   "cell_type": "markdown",
   "id": "1d0133ed-9394-4131-82a7-947560902a47",
   "metadata": {},
   "source": [
    "The covar multiplier for the trade assuming completely uncorrelated instruments is:"
   ]
  },
  {
   "cell_type": "markdown",
   "id": "eb1b6554-8b35-4735-a99f-0137e47e0204",
   "metadata": {},
   "source": [
    "The difference is quite small. We can observe from the covariance matrix that 10Y and 5s10s has low correlation."
   ]
  },
  {
   "cell_type": "markdown",
   "id": "1db79ac2-d419-475d-b3eb-7763e5f0f50c",
   "metadata": {},
   "source": [
    "### Liquidity Assessment\n",
    "\n",
    "Assume the bund future represents our market, we calculate the intrinsic bid-ask width from different order books representing different conditions."
   ]
  },
  {
   "cell_type": "code",
   "execution_count": null,
   "id": "ccee784d-7c42-476a-a263-8fe9d9319a4f",
   "metadata": {},
   "outputs": [],
   "source": [
    "b = np.array([169.70, 169.69, 169.68, 169.67, 169.66, 169.65])\n",
    "a = np.array([169.71, 169.72, 169.73, 169.74, 169.75, 169.76])\n",
    "w1 = np.array([36, 78, 86, 111, 121, 189])\n",
    "v1 = np.array([53, 88, 79, 102, 198, 213])\n",
    "w2 = np.array([112, 145, 165, 156, 198, 256])\n",
    "v2 = np.array([145, 189, 199, 212, 215, 278])\n",
    "\n",
    "import matplotlib.pyplot as plt\n",
    "from modules.mid_market import single_sided_ida\n",
    "\n",
    "z = np.linspace(1, 400, 400)\n",
    "\n",
    "fig, ax = plt.subplots(1,1)\n",
    "ax.plot(z, [single_sided_ida(a, v1, x) - single_sided_ida(b, w1, x) for x in z], label=\"lower\")\n",
    "ax.plot(z, [single_sided_ida(a, v2, x) - single_sided_ida(b, w2, x) for x in z], label=\"normal\")\n",
    "ax.legend()\n",
    "plt.show()"
   ]
  },
  {
   "cell_type": "markdown",
   "id": "071c4117-b854-4882-af18-7f50226106e2",
   "metadata": {},
   "source": [
    "### Total Margin\n",
    "\n",
    "Basic margin:"
   ]
  },
  {
   "cell_type": "code",
   "execution_count": null,
   "id": "d4d4ff21-fab1-4e23-a9c8-d856cc97c347",
   "metadata": {},
   "outputs": [],
   "source": [
    "f\"Ccy: {df['basic margin'].sum():,.0f}\""
   ]
  },
  {
   "cell_type": "markdown",
   "id": "b826362c-6a61-4ca3-95af-08ddfd61ecaf",
   "metadata": {},
   "source": [
    "Volume add-on adjusted for liquidity:"
   ]
  },
  {
   "cell_type": "code",
   "execution_count": null,
   "id": "8d005af9-5420-469d-a751-db9ccc010203",
   "metadata": {},
   "outputs": [],
   "source": [
    "f\"Ccy: {df['volume add on'].sum() * 2:,.0f}\""
   ]
  },
  {
   "cell_type": "markdown",
   "id": "ee8b41ba-b439-457e-adfa-683ae781fc79",
   "metadata": {},
   "source": [
    "Correlation add-on adjusted for liquidity:"
   ]
  },
  {
   "cell_type": "code",
   "execution_count": null,
   "id": "01261da0-97c5-435a-af9f-1633eed433ec",
   "metadata": {},
   "outputs": [],
   "source": [
    "f\"Ccy: {(covar - covar_zerocorr) * 2:,.0f}\""
   ]
  },
  {
   "cell_type": "markdown",
   "id": "912dcb68-46e4-40fb-ba25-83b0c3e3765b",
   "metadata": {},
   "source": [
    "Total Margin:"
   ]
  },
  {
   "cell_type": "code",
   "execution_count": null,
   "id": "38f6d234-3614-4a94-b2a2-a5c0ef538aff",
   "metadata": {},
   "outputs": [],
   "source": [
    "tm = df[\"basic margin\"].sum() + df[\"volume add on\"].sum() * 2 + (covar - covar_zerocorr) * 2\n",
    "f\"Ccy: {tm:,.0f}\""
   ]
  },
  {
   "cell_type": "markdown",
   "id": "5991022e-0ee3-43bf-b57c-794846dbe5bc",
   "metadata": {},
   "source": [
    "# Alternative Example\n",
    "\n",
    "Specify the risk and mid-market NPV of the requested trade."
   ]
  },
  {
   "cell_type": "code",
   "execution_count": null,
   "id": "4a877399-d546-4dce-82df-27fd3f5d8a2c",
   "metadata": {},
   "outputs": [],
   "source": [
    "portfolio = Portfolio([\n",
    "    Swap(datetime(2023,1,1), 12*4, 12, 12, notional=-100e6, fixed_rate=1.5),\n",
    "    Swap(datetime(2027,5,21), 12*9, 12, 12, notional=45e6, fixed_rate=2.0),\n",
    "    Swap(datetime(2028,9,16), 12*14, 12, 12, notional=21e6, fixed_rate=1.9)\n",
    "])\n",
    "portfolio.risk(s_cv)"
   ]
  },
  {
   "cell_type": "code",
   "execution_count": null,
   "id": "5a13da4b-dd3f-45df-bca7-bca9d4e7884b",
   "metadata": {},
   "outputs": [],
   "source": [
    "f\"Ccy: {portfolio.npv(s_cv).real:,.0f}\""
   ]
  },
  {
   "cell_type": "markdown",
   "id": "60854309-6a33-44d9-9936-f1341d8bf074",
   "metadata": {},
   "source": [
    "Get the current market-maker risk inventory"
   ]
  },
  {
   "cell_type": "code",
   "execution_count": null,
   "id": "1bd4b2f0-1e9a-4522-9884-5284fb68d36b",
   "metadata": {},
   "outputs": [],
   "source": [
    "S_inv = np.array([[1000, 35000, -10000, -35000]]).transpose()\n",
    "x_inv = portfolio.model_margin(c, A, S_inv)[1][:, np.newaxis]"
   ]
  },
  {
   "cell_type": "code",
   "execution_count": null,
   "id": "99d5a9c6-d13d-40c9-97b6-e752cf45d8eb",
   "metadata": {},
   "outputs": [],
   "source": [
    "ret = portfolio.model_margin(c, A, portfolio.risk(s_cv))\n",
    "df = pd.DataFrame({\n",
    "    \"2Y\": [1, 0, 0, 0, -1, -1, -1, 0, 0, 0, -1, 0],\n",
    "    \"5Y\": [0, 1, 0, 0, 1, 0, 0, -1, -1, 0, 2, -1],\n",
    "    \"10Y\": [0, 0, 1, 0, 0, 1, 0, 1, 0, -1, -1, 2],\n",
    "    \"30Y\": [0, 0, 0, 1, 0, 0, 1, 0, 1, 1, 0, -1],\n",
    "    \"margin\": [0.4, 0.5, 0.5, 0.6, 0.25, 0.45, 0.85, 0.25, 0.7, 0.55, 0.5, 0.6],\n",
    "}, index=[\"2Y\", \"5Y\", \"10Y\", \"30Y\", \"2s5s\", \"2s10s\", \"2s30s\", \"5s10s\", \"5s30s\", \"10s30s\", \"2s5s10s\", \"5s10s30s\"])\n",
    "df[\"x\"], x = ret[1], ret[1][:, np.newaxis]\n",
    "df[\"x_inv\"] = x_inv[:, 0]\n",
    "df[\"basic margin\"] = df[\"margin\"] * np.abs(df[\"x\"])\n",
    "df[\"volume add on\"] = 2/3000 * (np.abs((x_inv+x))**1.5 - np.abs(x_inv)**1.5)\n",
    "df.style.format(\"{:,.1f}\")"
   ]
  },
  {
   "cell_type": "code",
   "execution_count": null,
   "id": "7bd04cf7-470a-4837-b9aa-3f58b27a317b",
   "metadata": {},
   "outputs": [],
   "source": [
    "covar = np.matmul(np.matmul(x.T, Q_model), x)[0][0] ** 0.5\n",
    "covar"
   ]
  },
  {
   "cell_type": "code",
   "execution_count": null,
   "id": "3c0463e4-43ca-4de9-ada0-c1bb0d544367",
   "metadata": {},
   "outputs": [],
   "source": [
    "covar_zerocorr = np.matmul(np.matmul(x.T, np.diag(np.diagonal(Q_model))), x)[0][0] ** 0.5\n",
    "covar_zerocorr"
   ]
  },
  {
   "cell_type": "markdown",
   "id": "d24fe3d4-c1e6-405a-802a-9297eca22420",
   "metadata": {},
   "source": [
    "The total we charge for this swap package is"
   ]
  },
  {
   "cell_type": "code",
   "execution_count": null,
   "id": "d2148284-49db-4a80-bb78-426073764aff",
   "metadata": {},
   "outputs": [],
   "source": [
    "auto_margin = df[\"basic margin\"].sum() + df[\"volume add on\"].sum() + (covar - covar_zerocorr) * 0.15\n",
    "f\"Ccy: {auto_margin:,.0f}\""
   ]
  },
  {
   "cell_type": "markdown",
   "id": "f1629f75-ecc4-4ae8-9154-8b8ce8cc54fb",
   "metadata": {},
   "source": [
    "The price show to the customer is (negative is customer pays cash)"
   ]
  },
  {
   "cell_type": "code",
   "execution_count": null,
   "id": "c0d34e4c-ac80-4d74-832e-e93438c5603c",
   "metadata": {},
   "outputs": [],
   "source": [
    "f\"Ccy: {(portfolio.npv(s_cv) - auto_margin).real:,.0f}\""
   ]
  },
  {
   "cell_type": "markdown",
   "id": "09acd7d0-e7d9-47fb-90de-e2ea23589169",
   "metadata": {},
   "source": [
    "This does not include an off-the-run charge which is a major component of risk in this package."
   ]
  }
 ],
 "metadata": {
  "kernelspec": {
   "display_name": "Python 3 (ipykernel)",
   "language": "python",
   "name": "python3"
  },
  "language_info": {
   "codemirror_mode": {
    "name": "ipython",
    "version": 3
   },
   "file_extension": ".py",
   "mimetype": "text/x-python",
   "name": "python",
   "nbconvert_exporter": "python",
   "pygments_lexer": "ipython3",
   "version": "3.9.5"
  }
 },
 "nbformat": 4,
 "nbformat_minor": 5
}
